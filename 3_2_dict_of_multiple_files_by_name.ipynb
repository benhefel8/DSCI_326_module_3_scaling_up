{
 "cells": [
  {
   "cell_type": "markdown",
   "metadata": {},
   "source": [
    "# Working with multiple files\n",
    "\n",
    "On occasion, we will need to combine more than 2 files using some combination of `UNION` and `JOIN`.  In this lecture, we will show a clean approach to scaling up these operations up to any number of files.  In the process, we will\n",
    "\n",
    "1. Use `list` comprehensions to process and `UNION` many similar files.\n",
    "2. Use `dict` comprehensions to store and access many tables by name."
   ]
  },
  {
   "cell_type": "code",
   "execution_count": 2,
   "metadata": {},
   "outputs": [],
   "source": [
    "import polars as pl"
   ]
  },
  {
   "cell_type": "markdown",
   "metadata": {},
   "source": [
    "## Store in `dict` or `list`?\n",
    "\n",
    "* Natural sequence/order? $\\rightarrow$ `list`\n",
    "    *  Example: Lakes data and years are a natural sequence\n",
    "* Easier to refer by name? $\\rightarrow$ `dict`\n",
    "    * Baseball files have no order and easier to refer to by name"
   ]
  },
  {
   "cell_type": "markdown",
   "metadata": {},
   "source": [
    "## Example 1 - Read all baseball database using `dict`\n",
    "\n",
    "**Task:** Create a `dict` of tables for all tables in the Lahman database"
   ]
  },
  {
   "cell_type": "code",
   "execution_count": null,
   "metadata": {},
   "outputs": [],
   "source": []
  },
  {
   "cell_type": "markdown",
   "metadata": {},
   "source": [
    "#### Step 1 - Use `glob` to find paths for all CSV files"
   ]
  },
  {
   "cell_type": "code",
   "execution_count": 25,
   "metadata": {},
   "outputs": [
    {
     "data": {
      "text/plain": [
       "['./data/baseball/core\\\\AllstarFull.csv',\n",
       " './data/baseball/core\\\\Appearances.csv',\n",
       " './data/baseball/core\\\\AwardsManagers.csv',\n",
       " './data/baseball/core\\\\AwardsPlayers.csv',\n",
       " './data/baseball/core\\\\AwardsShareManagers.csv',\n",
       " './data/baseball/core\\\\AwardsSharePlayers.csv',\n",
       " './data/baseball/core\\\\Batting.csv',\n",
       " './data/baseball/core\\\\BattingPost.csv',\n",
       " './data/baseball/core\\\\CollegePlaying.csv',\n",
       " './data/baseball/core\\\\Fielding.csv',\n",
       " './data/baseball/core\\\\FieldingOF.csv',\n",
       " './data/baseball/core\\\\FieldingOFsplit.csv',\n",
       " './data/baseball/core\\\\FieldingPost.csv',\n",
       " './data/baseball/core\\\\HallOfFame.csv',\n",
       " './data/baseball/core\\\\HomeGames.csv',\n",
       " './data/baseball/core\\\\Managers.csv',\n",
       " './data/baseball/core\\\\ManagersHalf.csv',\n",
       " './data/baseball/core\\\\Parks.csv',\n",
       " './data/baseball/core\\\\People.csv',\n",
       " './data/baseball/core\\\\Pitching.csv',\n",
       " './data/baseball/core\\\\PitchingPost.csv',\n",
       " './data/baseball/core\\\\Salaries.csv',\n",
       " './data/baseball/core\\\\Schools.csv',\n",
       " './data/baseball/core\\\\SeriesPost.csv',\n",
       " './data/baseball/core\\\\Teams.csv',\n",
       " './data/baseball/core\\\\TeamsFranchises.csv',\n",
       " './data/baseball/core\\\\TeamsHalf.csv']"
      ]
     },
     "execution_count": 25,
     "metadata": {},
     "output_type": "execute_result"
    }
   ],
   "source": [
    "from glob import glob\n",
    "files = glob('./data/baseball/core/*.csv')\n",
    "files"
   ]
  },
  {
   "cell_type": "markdown",
   "metadata": {},
   "source": [
    "#### Step 2 - Make a function to extract the table name"
   ]
  },
  {
   "cell_type": "code",
   "execution_count": 32,
   "metadata": {},
   "outputs": [
    {
     "data": {
      "text/plain": [
       "[None,\n",
       " None,\n",
       " None,\n",
       " None,\n",
       " None,\n",
       " None,\n",
       " None,\n",
       " None,\n",
       " None,\n",
       " None,\n",
       " None,\n",
       " None,\n",
       " None,\n",
       " None,\n",
       " None,\n",
       " None,\n",
       " None,\n",
       " None,\n",
       " None,\n",
       " None,\n",
       " None,\n",
       " None,\n",
       " None,\n",
       " None,\n",
       " None,\n",
       " None,\n",
       " None]"
      ]
     },
     "execution_count": 32,
     "metadata": {},
     "output_type": "execute_result"
    }
   ],
   "source": [
    "import re\n",
    "FILE_NAME_RE = re.compile(r'^\\./data/baseball/core/([a-zA-Z_]*)\\.csv$')\n",
    "file_name = lambda p: FILE_NAME_RE.match(p).group(1) if FILE_NAME_RE.match(p) else None\n",
    "\n",
    "[file_name(p) for p in files]"
   ]
  },
  {
   "cell_type": "markdown",
   "metadata": {},
   "source": [
    "#### 4 - Read in the tables."
   ]
  },
  {
   "cell_type": "code",
   "execution_count": 13,
   "metadata": {},
   "outputs": [
    {
     "data": {
      "text/plain": [
       "{None: shape: (52, 10)\n",
       " ┌────────┬──────┬────────┬──────┬───┬──────┬─────┬─────┬─────┐\n",
       " │ yearID ┆ lgID ┆ teamID ┆ Half ┆ … ┆ Rank ┆ G   ┆ W   ┆ L   │\n",
       " │ ---    ┆ ---  ┆ ---    ┆ ---  ┆   ┆ ---  ┆ --- ┆ --- ┆ --- │\n",
       " │ i64    ┆ str  ┆ str    ┆ i64  ┆   ┆ i64  ┆ i64 ┆ i64 ┆ i64 │\n",
       " ╞════════╪══════╪════════╪══════╪═══╪══════╪═════╪═════╪═════╡\n",
       " │ 1981   ┆ NL   ┆ ATL    ┆ 1    ┆ … ┆ 4    ┆ 54  ┆ 25  ┆ 29  │\n",
       " │ 1981   ┆ NL   ┆ ATL    ┆ 2    ┆ … ┆ 5    ┆ 52  ┆ 25  ┆ 27  │\n",
       " │ 1981   ┆ AL   ┆ BAL    ┆ 1    ┆ … ┆ 2    ┆ 54  ┆ 31  ┆ 23  │\n",
       " │ 1981   ┆ AL   ┆ BAL    ┆ 2    ┆ … ┆ 4    ┆ 51  ┆ 28  ┆ 23  │\n",
       " │ 1981   ┆ AL   ┆ BOS    ┆ 1    ┆ … ┆ 5    ┆ 56  ┆ 30  ┆ 26  │\n",
       " │ …      ┆ …    ┆ …      ┆ …    ┆ … ┆ …    ┆ …   ┆ …   ┆ …   │\n",
       " │ 1981   ┆ NL   ┆ SLN    ┆ 2    ┆ … ┆ 2    ┆ 52  ┆ 29  ┆ 23  │\n",
       " │ 1981   ┆ AL   ┆ TEX    ┆ 1    ┆ … ┆ 2    ┆ 55  ┆ 33  ┆ 22  │\n",
       " │ 1981   ┆ AL   ┆ TEX    ┆ 2    ┆ … ┆ 3    ┆ 50  ┆ 24  ┆ 26  │\n",
       " │ 1981   ┆ AL   ┆ TOR    ┆ 1    ┆ … ┆ 7    ┆ 58  ┆ 16  ┆ 42  │\n",
       " │ 1981   ┆ AL   ┆ TOR    ┆ 2    ┆ … ┆ 6    ┆ 48  ┆ 21  ┆ 27  │\n",
       " └────────┴──────┴────────┴──────┴───┴──────┴─────┴─────┴─────┘}"
      ]
     },
     "execution_count": 13,
     "metadata": {},
     "output_type": "execute_result"
    }
   ],
   "source": [
    "baseball_db = {file_name(p):pl.read_csv(p, infer_schema_length=10000) for p in files}\n",
    "\n",
    "baseball_db"
   ]
  },
  {
   "cell_type": "markdown",
   "metadata": {},
   "source": [
    "### We can now access all the tables by name."
   ]
  },
  {
   "cell_type": "code",
   "execution_count": 20,
   "metadata": {
    "scrolled": true
   },
   "outputs": [
    {
     "data": {
      "text/plain": [
       "{None: shape: (52, 10)\n",
       " ┌────────┬──────┬────────┬──────┬───┬──────┬─────┬─────┬─────┐\n",
       " │ yearID ┆ lgID ┆ teamID ┆ Half ┆ … ┆ Rank ┆ G   ┆ W   ┆ L   │\n",
       " │ ---    ┆ ---  ┆ ---    ┆ ---  ┆   ┆ ---  ┆ --- ┆ --- ┆ --- │\n",
       " │ i64    ┆ str  ┆ str    ┆ i64  ┆   ┆ i64  ┆ i64 ┆ i64 ┆ i64 │\n",
       " ╞════════╪══════╪════════╪══════╪═══╪══════╪═════╪═════╪═════╡\n",
       " │ 1981   ┆ NL   ┆ ATL    ┆ 1    ┆ … ┆ 4    ┆ 54  ┆ 25  ┆ 29  │\n",
       " │ 1981   ┆ NL   ┆ ATL    ┆ 2    ┆ … ┆ 5    ┆ 52  ┆ 25  ┆ 27  │\n",
       " │ 1981   ┆ AL   ┆ BAL    ┆ 1    ┆ … ┆ 2    ┆ 54  ┆ 31  ┆ 23  │\n",
       " │ 1981   ┆ AL   ┆ BAL    ┆ 2    ┆ … ┆ 4    ┆ 51  ┆ 28  ┆ 23  │\n",
       " │ 1981   ┆ AL   ┆ BOS    ┆ 1    ┆ … ┆ 5    ┆ 56  ┆ 30  ┆ 26  │\n",
       " │ …      ┆ …    ┆ …      ┆ …    ┆ … ┆ …    ┆ …   ┆ …   ┆ …   │\n",
       " │ 1981   ┆ NL   ┆ SLN    ┆ 2    ┆ … ┆ 2    ┆ 52  ┆ 29  ┆ 23  │\n",
       " │ 1981   ┆ AL   ┆ TEX    ┆ 1    ┆ … ┆ 2    ┆ 55  ┆ 33  ┆ 22  │\n",
       " │ 1981   ┆ AL   ┆ TEX    ┆ 2    ┆ … ┆ 3    ┆ 50  ┆ 24  ┆ 26  │\n",
       " │ 1981   ┆ AL   ┆ TOR    ┆ 1    ┆ … ┆ 7    ┆ 58  ┆ 16  ┆ 42  │\n",
       " │ 1981   ┆ AL   ┆ TOR    ┆ 2    ┆ … ┆ 6    ┆ 48  ┆ 21  ┆ 27  │\n",
       " └────────┴──────┴────────┴──────┴───┴──────┴─────┴─────┴─────┘}"
      ]
     },
     "execution_count": 20,
     "metadata": {},
     "output_type": "execute_result"
    }
   ],
   "source": [
    "# Biggish output\n",
    "baseball_db"
   ]
  },
  {
   "cell_type": "code",
   "execution_count": 13,
   "metadata": {},
   "outputs": [
    {
     "data": {
      "text/html": [
       "<div><style>\n",
       ".dataframe > thead > tr,\n",
       ".dataframe > tbody > tr {\n",
       "  text-align: right;\n",
       "  white-space: pre-wrap;\n",
       "}\n",
       "</style>\n",
       "<small>shape: (2_925, 48)</small><table border=\"1\" class=\"dataframe\"><thead><tr><th>yearID</th><th>lgID</th><th>teamID</th><th>franchID</th><th>divID</th><th>Rank</th><th>G</th><th>Ghome</th><th>W</th><th>L</th><th>DivWin</th><th>WCWin</th><th>LgWin</th><th>WSWin</th><th>R</th><th>AB</th><th>H</th><th>2B</th><th>3B</th><th>HR</th><th>BB</th><th>SO</th><th>SB</th><th>CS</th><th>HBP</th><th>SF</th><th>RA</th><th>ER</th><th>ERA</th><th>CG</th><th>SHO</th><th>SV</th><th>IPouts</th><th>HA</th><th>HRA</th><th>BBA</th><th>SOA</th><th>E</th><th>DP</th><th>FP</th><th>name</th><th>park</th><th>attendance</th><th>BPF</th><th>PPF</th><th>teamIDBR</th><th>teamIDlahman45</th><th>teamIDretro</th></tr><tr><td>i64</td><td>str</td><td>str</td><td>str</td><td>str</td><td>i64</td><td>i64</td><td>i64</td><td>i64</td><td>i64</td><td>str</td><td>str</td><td>str</td><td>str</td><td>i64</td><td>i64</td><td>i64</td><td>i64</td><td>i64</td><td>i64</td><td>i64</td><td>i64</td><td>i64</td><td>i64</td><td>i64</td><td>i64</td><td>i64</td><td>i64</td><td>f64</td><td>i64</td><td>i64</td><td>i64</td><td>i64</td><td>i64</td><td>i64</td><td>i64</td><td>i64</td><td>i64</td><td>i64</td><td>f64</td><td>str</td><td>str</td><td>i64</td><td>i64</td><td>i64</td><td>str</td><td>str</td><td>str</td></tr></thead><tbody><tr><td>1871</td><td>&quot;NA&quot;</td><td>&quot;BS1&quot;</td><td>&quot;BNA&quot;</td><td>null</td><td>3</td><td>31</td><td>null</td><td>20</td><td>10</td><td>null</td><td>null</td><td>&quot;N&quot;</td><td>null</td><td>401</td><td>1372</td><td>426</td><td>70</td><td>37</td><td>3</td><td>60</td><td>19</td><td>73</td><td>16</td><td>null</td><td>null</td><td>303</td><td>109</td><td>3.55</td><td>22</td><td>1</td><td>3</td><td>828</td><td>367</td><td>2</td><td>42</td><td>23</td><td>243</td><td>24</td><td>0.834</td><td>&quot;Boston Red Stockings&quot;</td><td>&quot;South End Grounds I&quot;</td><td>null</td><td>103</td><td>98</td><td>&quot;BOS&quot;</td><td>&quot;BS1&quot;</td><td>&quot;BS1&quot;</td></tr><tr><td>1871</td><td>&quot;NA&quot;</td><td>&quot;CH1&quot;</td><td>&quot;CNA&quot;</td><td>null</td><td>2</td><td>28</td><td>null</td><td>19</td><td>9</td><td>null</td><td>null</td><td>&quot;N&quot;</td><td>null</td><td>302</td><td>1196</td><td>323</td><td>52</td><td>21</td><td>10</td><td>60</td><td>22</td><td>69</td><td>21</td><td>null</td><td>null</td><td>241</td><td>77</td><td>2.76</td><td>25</td><td>0</td><td>1</td><td>753</td><td>308</td><td>6</td><td>28</td><td>22</td><td>229</td><td>16</td><td>0.829</td><td>&quot;Chicago White Stockings&quot;</td><td>&quot;Union Base-Ball Grounds&quot;</td><td>null</td><td>104</td><td>102</td><td>&quot;CHI&quot;</td><td>&quot;CH1&quot;</td><td>&quot;CH1&quot;</td></tr><tr><td>1871</td><td>&quot;NA&quot;</td><td>&quot;CL1&quot;</td><td>&quot;CFC&quot;</td><td>null</td><td>8</td><td>29</td><td>null</td><td>10</td><td>19</td><td>null</td><td>null</td><td>&quot;N&quot;</td><td>null</td><td>249</td><td>1186</td><td>328</td><td>35</td><td>40</td><td>7</td><td>26</td><td>25</td><td>18</td><td>8</td><td>null</td><td>null</td><td>341</td><td>116</td><td>4.11</td><td>23</td><td>0</td><td>0</td><td>762</td><td>346</td><td>13</td><td>53</td><td>34</td><td>234</td><td>15</td><td>0.818</td><td>&quot;Cleveland Forest Citys&quot;</td><td>&quot;National Association Grounds&quot;</td><td>null</td><td>96</td><td>100</td><td>&quot;CLE&quot;</td><td>&quot;CL1&quot;</td><td>&quot;CL1&quot;</td></tr><tr><td>1871</td><td>&quot;NA&quot;</td><td>&quot;FW1&quot;</td><td>&quot;KEK&quot;</td><td>null</td><td>7</td><td>19</td><td>null</td><td>7</td><td>12</td><td>null</td><td>null</td><td>&quot;N&quot;</td><td>null</td><td>137</td><td>746</td><td>178</td><td>19</td><td>8</td><td>2</td><td>33</td><td>9</td><td>16</td><td>4</td><td>null</td><td>null</td><td>243</td><td>97</td><td>5.17</td><td>19</td><td>1</td><td>0</td><td>507</td><td>261</td><td>5</td><td>21</td><td>17</td><td>163</td><td>8</td><td>0.803</td><td>&quot;Fort Wayne Kekiongas&quot;</td><td>&quot;Hamilton Field&quot;</td><td>null</td><td>101</td><td>107</td><td>&quot;KEK&quot;</td><td>&quot;FW1&quot;</td><td>&quot;FW1&quot;</td></tr><tr><td>1871</td><td>&quot;NA&quot;</td><td>&quot;NY2&quot;</td><td>&quot;NNA&quot;</td><td>null</td><td>5</td><td>33</td><td>null</td><td>16</td><td>17</td><td>null</td><td>null</td><td>&quot;N&quot;</td><td>null</td><td>302</td><td>1404</td><td>403</td><td>43</td><td>21</td><td>1</td><td>33</td><td>15</td><td>46</td><td>15</td><td>null</td><td>null</td><td>313</td><td>121</td><td>3.72</td><td>32</td><td>1</td><td>0</td><td>879</td><td>373</td><td>7</td><td>42</td><td>22</td><td>235</td><td>14</td><td>0.84</td><td>&quot;New York Mutuals&quot;</td><td>&quot;Union Grounds (Brooklyn)&quot;</td><td>null</td><td>90</td><td>88</td><td>&quot;NYU&quot;</td><td>&quot;NY2&quot;</td><td>&quot;NY2&quot;</td></tr><tr><td>&hellip;</td><td>&hellip;</td><td>&hellip;</td><td>&hellip;</td><td>&hellip;</td><td>&hellip;</td><td>&hellip;</td><td>&hellip;</td><td>&hellip;</td><td>&hellip;</td><td>&hellip;</td><td>&hellip;</td><td>&hellip;</td><td>&hellip;</td><td>&hellip;</td><td>&hellip;</td><td>&hellip;</td><td>&hellip;</td><td>&hellip;</td><td>&hellip;</td><td>&hellip;</td><td>&hellip;</td><td>&hellip;</td><td>&hellip;</td><td>&hellip;</td><td>&hellip;</td><td>&hellip;</td><td>&hellip;</td><td>&hellip;</td><td>&hellip;</td><td>&hellip;</td><td>&hellip;</td><td>&hellip;</td><td>&hellip;</td><td>&hellip;</td><td>&hellip;</td><td>&hellip;</td><td>&hellip;</td><td>&hellip;</td><td>&hellip;</td><td>&hellip;</td><td>&hellip;</td><td>&hellip;</td><td>&hellip;</td><td>&hellip;</td><td>&hellip;</td><td>&hellip;</td><td>&hellip;</td></tr><tr><td>2019</td><td>&quot;NL&quot;</td><td>&quot;SLN&quot;</td><td>&quot;STL&quot;</td><td>&quot;C&quot;</td><td>1</td><td>162</td><td>81</td><td>91</td><td>71</td><td>&quot;Y&quot;</td><td>&quot;N&quot;</td><td>&quot;N&quot;</td><td>&quot;N&quot;</td><td>764</td><td>5449</td><td>1336</td><td>246</td><td>24</td><td>210</td><td>561</td><td>1420</td><td>116</td><td>29</td><td>76</td><td>39</td><td>662</td><td>609</td><td>3.8</td><td>1</td><td>14</td><td>52</td><td>4332</td><td>1284</td><td>191</td><td>545</td><td>1399</td><td>66</td><td>168</td><td>0.989</td><td>&quot;St. Louis Cardinals&quot;</td><td>&quot;Busch Stadium III&quot;</td><td>3480393</td><td>98</td><td>97</td><td>&quot;STL&quot;</td><td>&quot;SLN&quot;</td><td>&quot;SLN&quot;</td></tr><tr><td>2019</td><td>&quot;AL&quot;</td><td>&quot;TBA&quot;</td><td>&quot;TBD&quot;</td><td>&quot;E&quot;</td><td>2</td><td>162</td><td>81</td><td>96</td><td>66</td><td>&quot;N&quot;</td><td>&quot;Y&quot;</td><td>&quot;N&quot;</td><td>&quot;N&quot;</td><td>769</td><td>5628</td><td>1427</td><td>291</td><td>29</td><td>217</td><td>542</td><td>1493</td><td>94</td><td>37</td><td>73</td><td>34</td><td>656</td><td>598</td><td>3.65</td><td>0</td><td>12</td><td>46</td><td>4423</td><td>1274</td><td>181</td><td>453</td><td>1621</td><td>87</td><td>126</td><td>0.985</td><td>&quot;Tampa Bay Rays&quot;</td><td>&quot;Tropicana Field&quot;</td><td>1178735</td><td>97</td><td>96</td><td>&quot;TBR&quot;</td><td>&quot;TBA&quot;</td><td>&quot;TBA&quot;</td></tr><tr><td>2019</td><td>&quot;AL&quot;</td><td>&quot;TEX&quot;</td><td>&quot;TEX&quot;</td><td>&quot;W&quot;</td><td>3</td><td>162</td><td>81</td><td>78</td><td>84</td><td>&quot;N&quot;</td><td>&quot;N&quot;</td><td>&quot;N&quot;</td><td>&quot;N&quot;</td><td>810</td><td>5540</td><td>1374</td><td>296</td><td>24</td><td>223</td><td>534</td><td>1578</td><td>131</td><td>38</td><td>67</td><td>44</td><td>878</td><td>808</td><td>5.06</td><td>4</td><td>9</td><td>33</td><td>4314</td><td>1515</td><td>241</td><td>583</td><td>1379</td><td>105</td><td>143</td><td>0.982</td><td>&quot;Texas Rangers&quot;</td><td>&quot;Globe Life Park in Arlington&quot;</td><td>2132994</td><td>111</td><td>112</td><td>&quot;TEX&quot;</td><td>&quot;TEX&quot;</td><td>&quot;TEX&quot;</td></tr><tr><td>2019</td><td>&quot;AL&quot;</td><td>&quot;TOR&quot;</td><td>&quot;TOR&quot;</td><td>&quot;E&quot;</td><td>4</td><td>162</td><td>81</td><td>67</td><td>95</td><td>&quot;N&quot;</td><td>&quot;N&quot;</td><td>&quot;N&quot;</td><td>&quot;N&quot;</td><td>726</td><td>5493</td><td>1299</td><td>270</td><td>21</td><td>247</td><td>509</td><td>1514</td><td>51</td><td>20</td><td>45</td><td>28</td><td>828</td><td>767</td><td>4.79</td><td>1</td><td>7</td><td>33</td><td>4321</td><td>1450</td><td>228</td><td>604</td><td>1332</td><td>96</td><td>141</td><td>0.984</td><td>&quot;Toronto Blue Jays&quot;</td><td>&quot;Rogers Centre&quot;</td><td>1750114</td><td>97</td><td>98</td><td>&quot;TOR&quot;</td><td>&quot;TOR&quot;</td><td>&quot;TOR&quot;</td></tr><tr><td>2019</td><td>&quot;NL&quot;</td><td>&quot;WAS&quot;</td><td>&quot;WSN&quot;</td><td>&quot;E&quot;</td><td>2</td><td>162</td><td>81</td><td>93</td><td>69</td><td>&quot;N&quot;</td><td>&quot;Y&quot;</td><td>&quot;Y&quot;</td><td>&quot;Y&quot;</td><td>873</td><td>5512</td><td>1460</td><td>298</td><td>27</td><td>231</td><td>584</td><td>1308</td><td>116</td><td>29</td><td>81</td><td>42</td><td>724</td><td>683</td><td>4.27</td><td>1</td><td>13</td><td>40</td><td>4318</td><td>1340</td><td>202</td><td>517</td><td>1511</td><td>87</td><td>111</td><td>0.985</td><td>&quot;Washington Nationals&quot;</td><td>&quot;Nationals Park&quot;</td><td>2259781</td><td>106</td><td>104</td><td>&quot;WSN&quot;</td><td>&quot;MON&quot;</td><td>&quot;WAS&quot;</td></tr></tbody></table></div>"
      ],
      "text/plain": [
       "shape: (2_925, 48)\n",
       "┌────────┬──────┬────────┬──────────┬───┬─────┬──────────┬────────────────┬─────────────┐\n",
       "│ yearID ┆ lgID ┆ teamID ┆ franchID ┆ … ┆ PPF ┆ teamIDBR ┆ teamIDlahman45 ┆ teamIDretro │\n",
       "│ ---    ┆ ---  ┆ ---    ┆ ---      ┆   ┆ --- ┆ ---      ┆ ---            ┆ ---         │\n",
       "│ i64    ┆ str  ┆ str    ┆ str      ┆   ┆ i64 ┆ str      ┆ str            ┆ str         │\n",
       "╞════════╪══════╪════════╪══════════╪═══╪═════╪══════════╪════════════════╪═════════════╡\n",
       "│ 1871   ┆ NA   ┆ BS1    ┆ BNA      ┆ … ┆ 98  ┆ BOS      ┆ BS1            ┆ BS1         │\n",
       "│ 1871   ┆ NA   ┆ CH1    ┆ CNA      ┆ … ┆ 102 ┆ CHI      ┆ CH1            ┆ CH1         │\n",
       "│ 1871   ┆ NA   ┆ CL1    ┆ CFC      ┆ … ┆ 100 ┆ CLE      ┆ CL1            ┆ CL1         │\n",
       "│ 1871   ┆ NA   ┆ FW1    ┆ KEK      ┆ … ┆ 107 ┆ KEK      ┆ FW1            ┆ FW1         │\n",
       "│ 1871   ┆ NA   ┆ NY2    ┆ NNA      ┆ … ┆ 88  ┆ NYU      ┆ NY2            ┆ NY2         │\n",
       "│ …      ┆ …    ┆ …      ┆ …        ┆ … ┆ …   ┆ …        ┆ …              ┆ …           │\n",
       "│ 2019   ┆ NL   ┆ SLN    ┆ STL      ┆ … ┆ 97  ┆ STL      ┆ SLN            ┆ SLN         │\n",
       "│ 2019   ┆ AL   ┆ TBA    ┆ TBD      ┆ … ┆ 96  ┆ TBR      ┆ TBA            ┆ TBA         │\n",
       "│ 2019   ┆ AL   ┆ TEX    ┆ TEX      ┆ … ┆ 112 ┆ TEX      ┆ TEX            ┆ TEX         │\n",
       "│ 2019   ┆ AL   ┆ TOR    ┆ TOR      ┆ … ┆ 98  ┆ TOR      ┆ TOR            ┆ TOR         │\n",
       "│ 2019   ┆ NL   ┆ WAS    ┆ WSN      ┆ … ┆ 104 ┆ WSN      ┆ MON            ┆ WAS         │\n",
       "└────────┴──────┴────────┴──────────┴───┴─────┴──────────┴────────────────┴─────────────┘"
      ]
     },
     "execution_count": 13,
     "metadata": {},
     "output_type": "execute_result"
    }
   ],
   "source": [
    "baseball_db['Teams']"
   ]
  },
  {
   "cell_type": "code",
   "execution_count": 14,
   "metadata": {},
   "outputs": [
    {
     "data": {
      "text/html": [
       "<div><style>\n",
       ".dataframe > thead > tr,\n",
       ".dataframe > tbody > tr {\n",
       "  text-align: right;\n",
       "  white-space: pre-wrap;\n",
       "}\n",
       "</style>\n",
       "<small>shape: (107_429, 22)</small><table border=\"1\" class=\"dataframe\"><thead><tr><th>playerID</th><th>yearID</th><th>stint</th><th>teamID</th><th>lgID</th><th>G</th><th>AB</th><th>R</th><th>H</th><th>2B</th><th>3B</th><th>HR</th><th>RBI</th><th>SB</th><th>CS</th><th>BB</th><th>SO</th><th>IBB</th><th>HBP</th><th>SH</th><th>SF</th><th>GIDP</th></tr><tr><td>str</td><td>i64</td><td>i64</td><td>str</td><td>str</td><td>i64</td><td>i64</td><td>i64</td><td>i64</td><td>i64</td><td>i64</td><td>i64</td><td>i64</td><td>i64</td><td>i64</td><td>i64</td><td>i64</td><td>str</td><td>i64</td><td>i64</td><td>str</td><td>i64</td></tr></thead><tbody><tr><td>&quot;abercda01&quot;</td><td>1871</td><td>1</td><td>&quot;TRO&quot;</td><td>&quot;NA&quot;</td><td>1</td><td>4</td><td>0</td><td>0</td><td>0</td><td>0</td><td>0</td><td>0</td><td>0</td><td>0</td><td>0</td><td>0</td><td>null</td><td>null</td><td>null</td><td>null</td><td>0</td></tr><tr><td>&quot;addybo01&quot;</td><td>1871</td><td>1</td><td>&quot;RC1&quot;</td><td>&quot;NA&quot;</td><td>25</td><td>118</td><td>30</td><td>32</td><td>6</td><td>0</td><td>0</td><td>13</td><td>8</td><td>1</td><td>4</td><td>0</td><td>null</td><td>null</td><td>null</td><td>null</td><td>0</td></tr><tr><td>&quot;allisar01&quot;</td><td>1871</td><td>1</td><td>&quot;CL1&quot;</td><td>&quot;NA&quot;</td><td>29</td><td>137</td><td>28</td><td>40</td><td>4</td><td>5</td><td>0</td><td>19</td><td>3</td><td>1</td><td>2</td><td>5</td><td>null</td><td>null</td><td>null</td><td>null</td><td>1</td></tr><tr><td>&quot;allisdo01&quot;</td><td>1871</td><td>1</td><td>&quot;WS3&quot;</td><td>&quot;NA&quot;</td><td>27</td><td>133</td><td>28</td><td>44</td><td>10</td><td>2</td><td>2</td><td>27</td><td>1</td><td>1</td><td>0</td><td>2</td><td>null</td><td>null</td><td>null</td><td>null</td><td>0</td></tr><tr><td>&quot;ansonca01&quot;</td><td>1871</td><td>1</td><td>&quot;RC1&quot;</td><td>&quot;NA&quot;</td><td>25</td><td>120</td><td>29</td><td>39</td><td>11</td><td>3</td><td>0</td><td>16</td><td>6</td><td>2</td><td>2</td><td>1</td><td>null</td><td>null</td><td>null</td><td>null</td><td>0</td></tr><tr><td>&hellip;</td><td>&hellip;</td><td>&hellip;</td><td>&hellip;</td><td>&hellip;</td><td>&hellip;</td><td>&hellip;</td><td>&hellip;</td><td>&hellip;</td><td>&hellip;</td><td>&hellip;</td><td>&hellip;</td><td>&hellip;</td><td>&hellip;</td><td>&hellip;</td><td>&hellip;</td><td>&hellip;</td><td>&hellip;</td><td>&hellip;</td><td>&hellip;</td><td>&hellip;</td><td>&hellip;</td></tr><tr><td>&quot;zimmejo02&quot;</td><td>2019</td><td>1</td><td>&quot;DET&quot;</td><td>&quot;AL&quot;</td><td>23</td><td>2</td><td>0</td><td>0</td><td>0</td><td>0</td><td>0</td><td>0</td><td>0</td><td>0</td><td>0</td><td>2</td><td>&quot;0&quot;</td><td>0</td><td>0</td><td>&quot;0&quot;</td><td>0</td></tr><tr><td>&quot;zimmeky01&quot;</td><td>2019</td><td>1</td><td>&quot;KCA&quot;</td><td>&quot;AL&quot;</td><td>15</td><td>0</td><td>0</td><td>0</td><td>0</td><td>0</td><td>0</td><td>0</td><td>0</td><td>0</td><td>0</td><td>0</td><td>&quot;0&quot;</td><td>0</td><td>0</td><td>&quot;0&quot;</td><td>0</td></tr><tr><td>&quot;zimmery01&quot;</td><td>2019</td><td>1</td><td>&quot;WAS&quot;</td><td>&quot;NL&quot;</td><td>52</td><td>171</td><td>20</td><td>44</td><td>9</td><td>0</td><td>6</td><td>27</td><td>0</td><td>0</td><td>17</td><td>39</td><td>&quot;0&quot;</td><td>0</td><td>0</td><td>&quot;2&quot;</td><td>4</td></tr><tr><td>&quot;zobribe01&quot;</td><td>2019</td><td>1</td><td>&quot;CHN&quot;</td><td>&quot;NL&quot;</td><td>47</td><td>150</td><td>24</td><td>39</td><td>5</td><td>0</td><td>1</td><td>17</td><td>0</td><td>0</td><td>23</td><td>24</td><td>&quot;0&quot;</td><td>1</td><td>0</td><td>&quot;2&quot;</td><td>6</td></tr><tr><td>&quot;zuninmi01&quot;</td><td>2019</td><td>1</td><td>&quot;TBA&quot;</td><td>&quot;AL&quot;</td><td>90</td><td>266</td><td>30</td><td>44</td><td>10</td><td>1</td><td>9</td><td>32</td><td>0</td><td>0</td><td>20</td><td>98</td><td>&quot;0&quot;</td><td>3</td><td>0</td><td>&quot;0&quot;</td><td>4</td></tr></tbody></table></div>"
      ],
      "text/plain": [
       "shape: (107_429, 22)\n",
       "┌───────────┬────────┬───────┬────────┬───┬──────┬──────┬──────┬──────┐\n",
       "│ playerID  ┆ yearID ┆ stint ┆ teamID ┆ … ┆ HBP  ┆ SH   ┆ SF   ┆ GIDP │\n",
       "│ ---       ┆ ---    ┆ ---   ┆ ---    ┆   ┆ ---  ┆ ---  ┆ ---  ┆ ---  │\n",
       "│ str       ┆ i64    ┆ i64   ┆ str    ┆   ┆ i64  ┆ i64  ┆ str  ┆ i64  │\n",
       "╞═══════════╪════════╪═══════╪════════╪═══╪══════╪══════╪══════╪══════╡\n",
       "│ abercda01 ┆ 1871   ┆ 1     ┆ TRO    ┆ … ┆ null ┆ null ┆ null ┆ 0    │\n",
       "│ addybo01  ┆ 1871   ┆ 1     ┆ RC1    ┆ … ┆ null ┆ null ┆ null ┆ 0    │\n",
       "│ allisar01 ┆ 1871   ┆ 1     ┆ CL1    ┆ … ┆ null ┆ null ┆ null ┆ 1    │\n",
       "│ allisdo01 ┆ 1871   ┆ 1     ┆ WS3    ┆ … ┆ null ┆ null ┆ null ┆ 0    │\n",
       "│ ansonca01 ┆ 1871   ┆ 1     ┆ RC1    ┆ … ┆ null ┆ null ┆ null ┆ 0    │\n",
       "│ …         ┆ …      ┆ …     ┆ …      ┆ … ┆ …    ┆ …    ┆ …    ┆ …    │\n",
       "│ zimmejo02 ┆ 2019   ┆ 1     ┆ DET    ┆ … ┆ 0    ┆ 0    ┆ 0    ┆ 0    │\n",
       "│ zimmeky01 ┆ 2019   ┆ 1     ┆ KCA    ┆ … ┆ 0    ┆ 0    ┆ 0    ┆ 0    │\n",
       "│ zimmery01 ┆ 2019   ┆ 1     ┆ WAS    ┆ … ┆ 0    ┆ 0    ┆ 2    ┆ 4    │\n",
       "│ zobribe01 ┆ 2019   ┆ 1     ┆ CHN    ┆ … ┆ 1    ┆ 0    ┆ 2    ┆ 6    │\n",
       "│ zuninmi01 ┆ 2019   ┆ 1     ┆ TBA    ┆ … ┆ 3    ┆ 0    ┆ 0    ┆ 4    │\n",
       "└───────────┴────────┴───────┴────────┴───┴──────┴──────┴──────┴──────┘"
      ]
     },
     "execution_count": 14,
     "metadata": {},
     "output_type": "execute_result"
    }
   ],
   "source": [
    "baseball_db['Batting']"
   ]
  },
  {
   "cell_type": "markdown",
   "metadata": {},
   "source": [
    "## Example 2 - Reading and joining the baseball database using `dict`\n",
    "\n",
    "**Task:** Collect the number of total hits for each batters in the 2010 season join on their first and last name.\n",
    "\n",
    "In the second example, we will store the data frames in a `dict`, which will make it easier to join the files by ne"
   ]
  },
  {
   "cell_type": "markdown",
   "metadata": {},
   "source": [
    "#### Step 1 - Get the files names"
   ]
  },
  {
   "cell_type": "markdown",
   "metadata": {},
   "source": [
    "* Only need the `Batting.csv` and `People.csv`.  \n",
    "* Narrow with a RegEx"
   ]
  },
  {
   "cell_type": "code",
   "execution_count": 17,
   "metadata": {},
   "outputs": [
    {
     "data": {
      "text/plain": [
       "['./data/baseball/core\\\\AllstarFull.csv',\n",
       " './data/baseball/core\\\\Appearances.csv',\n",
       " './data/baseball/core\\\\AwardsManagers.csv',\n",
       " './data/baseball/core\\\\AwardsPlayers.csv',\n",
       " './data/baseball/core\\\\AwardsShareManagers.csv',\n",
       " './data/baseball/core\\\\AwardsSharePlayers.csv',\n",
       " './data/baseball/core\\\\Batting.csv',\n",
       " './data/baseball/core\\\\BattingPost.csv',\n",
       " './data/baseball/core\\\\CollegePlaying.csv',\n",
       " './data/baseball/core\\\\Fielding.csv',\n",
       " './data/baseball/core\\\\FieldingOF.csv',\n",
       " './data/baseball/core\\\\FieldingOFsplit.csv',\n",
       " './data/baseball/core\\\\FieldingPost.csv',\n",
       " './data/baseball/core\\\\HallOfFame.csv',\n",
       " './data/baseball/core\\\\HomeGames.csv',\n",
       " './data/baseball/core\\\\Managers.csv',\n",
       " './data/baseball/core\\\\ManagersHalf.csv',\n",
       " './data/baseball/core\\\\Parks.csv',\n",
       " './data/baseball/core\\\\People.csv',\n",
       " './data/baseball/core\\\\Pitching.csv',\n",
       " './data/baseball/core\\\\PitchingPost.csv',\n",
       " './data/baseball/core\\\\Salaries.csv',\n",
       " './data/baseball/core\\\\Schools.csv',\n",
       " './data/baseball/core\\\\SeriesPost.csv',\n",
       " './data/baseball/core\\\\Teams.csv',\n",
       " './data/baseball/core\\\\TeamsFranchises.csv',\n",
       " './data/baseball/core\\\\TeamsHalf.csv']"
      ]
     },
     "execution_count": 17,
     "metadata": {},
     "output_type": "execute_result"
    }
   ],
   "source": [
    "from glob import glob\n",
    "files = glob('./data/baseball/core/*.csv')\n",
    "files"
   ]
  },
  {
   "cell_type": "markdown",
   "metadata": {},
   "source": [
    "#### Step 2 - Make helper functions to get the name from path"
   ]
  },
  {
   "cell_type": "code",
   "execution_count": 21,
   "metadata": {},
   "outputs": [
    {
     "data": {
      "text/plain": [
       "[]"
      ]
     },
     "execution_count": 21,
     "metadata": {},
     "output_type": "execute_result"
    }
   ],
   "source": [
    "import re\n",
    "FILE_NAME_RE = re.compile(r'^\\./data/baseball/core/(Batting|People)\\.csv$')\n",
    "is_batting_or_people = lambda p: FILE_NAME_RE.match(p)\n",
    "file_name = lambda p: FILE_NAME_RE.match(p).group(1) \n",
    "\n",
    "[file_name(p) for p in files if is_batting_or_teams(p)]"
   ]
  },
  {
   "cell_type": "code",
   "execution_count": 39,
   "metadata": {},
   "outputs": [
    {
     "data": {
      "text/plain": [
       "[shape: (20_090, 24)\n",
       " ┌───────────┬───────────┬────────────┬──────────┬───┬───────────┬───────────┬──────────┬───────────┐\n",
       " │ playerID  ┆ birthYear ┆ birthMonth ┆ birthDay ┆ … ┆ debut     ┆ finalGame ┆ retroID  ┆ bbrefID   │\n",
       " │ ---       ┆ ---       ┆ ---        ┆ ---      ┆   ┆ ---       ┆ ---       ┆ ---      ┆ ---       │\n",
       " │ str       ┆ i64       ┆ i64        ┆ i64      ┆   ┆ str       ┆ str       ┆ str      ┆ str       │\n",
       " ╞═══════════╪═══════════╪════════════╪══════════╪═══╪═══════════╪═══════════╪══════════╪═══════════╡\n",
       " │ aardsda01 ┆ 1981      ┆ 12         ┆ 27       ┆ … ┆ 2004-04-0 ┆ 2015-08-2 ┆ aardd001 ┆ aardsda01 │\n",
       " │           ┆           ┆            ┆          ┆   ┆ 6         ┆ 3         ┆          ┆           │\n",
       " │ aaronha01 ┆ 1934      ┆ 2          ┆ 5        ┆ … ┆ 1954-04-1 ┆ 1976-10-0 ┆ aaroh101 ┆ aaronha01 │\n",
       " │           ┆           ┆            ┆          ┆   ┆ 3         ┆ 3         ┆          ┆           │\n",
       " │ aaronto01 ┆ 1939      ┆ 8          ┆ 5        ┆ … ┆ 1962-04-1 ┆ 1971-09-2 ┆ aarot101 ┆ aaronto01 │\n",
       " │           ┆           ┆            ┆          ┆   ┆ 0         ┆ 6         ┆          ┆           │\n",
       " │ aasedo01  ┆ 1954      ┆ 9          ┆ 8        ┆ … ┆ 1977-07-2 ┆ 1990-10-0 ┆ aased001 ┆ aasedo01  │\n",
       " │           ┆           ┆            ┆          ┆   ┆ 6         ┆ 3         ┆          ┆           │\n",
       " │ abadan01  ┆ 1972      ┆ 8          ┆ 25       ┆ … ┆ 2001-09-1 ┆ 2006-04-1 ┆ abada001 ┆ abadan01  │\n",
       " │           ┆           ┆            ┆          ┆   ┆ 0         ┆ 3         ┆          ┆           │\n",
       " │ …         ┆ …         ┆ …          ┆ …        ┆ … ┆ …         ┆ …         ┆ …        ┆ …         │\n",
       " │ zupofr01  ┆ 1939      ┆ 8          ┆ 29       ┆ … ┆ 1957-07-0 ┆ 1961-05-0 ┆ zupof101 ┆ zupofr01  │\n",
       " │           ┆           ┆            ┆          ┆   ┆ 1         ┆ 9         ┆          ┆           │\n",
       " │ zuvelpa01 ┆ 1958      ┆ 10         ┆ 31       ┆ … ┆ 1982-09-0 ┆ 1991-05-0 ┆ zuvep001 ┆ zuvelpa01 │\n",
       " │           ┆           ┆            ┆          ┆   ┆ 4         ┆ 2         ┆          ┆           │\n",
       " │ zuverge01 ┆ 1924      ┆ 8          ┆ 20       ┆ … ┆ 1951-04-2 ┆ 1959-06-1 ┆ zuveg101 ┆ zuverge01 │\n",
       " │           ┆           ┆            ┆          ┆   ┆ 1         ┆ 5         ┆          ┆           │\n",
       " │ zwilldu01 ┆ 1888      ┆ 11         ┆ 2        ┆ … ┆ 1910-08-1 ┆ 1916-07-1 ┆ zwild101 ┆ zwilldu01 │\n",
       " │           ┆           ┆            ┆          ┆   ┆ 4         ┆ 2         ┆          ┆           │\n",
       " │ zychto01  ┆ 1990      ┆ 8          ┆ 7        ┆ … ┆ 2015-09-0 ┆ 2017-08-1 ┆ zycht001 ┆ zychto01  │\n",
       " │           ┆           ┆            ┆          ┆   ┆ 4         ┆ 9         ┆          ┆           │\n",
       " └───────────┴───────────┴────────────┴──────────┴───┴───────────┴───────────┴──────────┴───────────┘,\n",
       " shape: (107_429, 22)\n",
       " ┌───────────┬────────┬───────┬────────┬───┬──────┬──────┬──────┬──────┐\n",
       " │ playerID  ┆ yearID ┆ stint ┆ teamID ┆ … ┆ HBP  ┆ SH   ┆ SF   ┆ GIDP │\n",
       " │ ---       ┆ ---    ┆ ---   ┆ ---    ┆   ┆ ---  ┆ ---  ┆ ---  ┆ ---  │\n",
       " │ str       ┆ i64    ┆ i64   ┆ str    ┆   ┆ str  ┆ str  ┆ str  ┆ i64  │\n",
       " ╞═══════════╪════════╪═══════╪════════╪═══╪══════╪══════╪══════╪══════╡\n",
       " │ abercda01 ┆ 1871   ┆ 1     ┆ TRO    ┆ … ┆ null ┆ null ┆ null ┆ 0    │\n",
       " │ addybo01  ┆ 1871   ┆ 1     ┆ RC1    ┆ … ┆ null ┆ null ┆ null ┆ 0    │\n",
       " │ allisar01 ┆ 1871   ┆ 1     ┆ CL1    ┆ … ┆ null ┆ null ┆ null ┆ 1    │\n",
       " │ allisdo01 ┆ 1871   ┆ 1     ┆ WS3    ┆ … ┆ null ┆ null ┆ null ┆ 0    │\n",
       " │ ansonca01 ┆ 1871   ┆ 1     ┆ RC1    ┆ … ┆ null ┆ null ┆ null ┆ 0    │\n",
       " │ …         ┆ …      ┆ …     ┆ …      ┆ … ┆ …    ┆ …    ┆ …    ┆ …    │\n",
       " │ zimmejo02 ┆ 2019   ┆ 1     ┆ DET    ┆ … ┆ 0    ┆ 0    ┆ 0    ┆ 0    │\n",
       " │ zimmeky01 ┆ 2019   ┆ 1     ┆ KCA    ┆ … ┆ 0    ┆ 0    ┆ 0    ┆ 0    │\n",
       " │ zimmery01 ┆ 2019   ┆ 1     ┆ WAS    ┆ … ┆ 0    ┆ 0    ┆ 2    ┆ 4    │\n",
       " │ zobribe01 ┆ 2019   ┆ 1     ┆ CHN    ┆ … ┆ 1    ┆ 0    ┆ 2    ┆ 6    │\n",
       " │ zuninmi01 ┆ 2019   ┆ 1     ┆ TBA    ┆ … ┆ 3    ┆ 0    ┆ 0    ┆ 4    │\n",
       " └───────────┴────────┴───────┴────────┴───┴──────┴──────┴──────┴──────┘]"
      ]
     },
     "execution_count": 39,
     "metadata": {},
     "output_type": "execute_result"
    }
   ],
   "source": [
    "dfs = [pl.read_csv(p) for p in files if is_batting_or_people(p)]\n",
    "\n",
    "dfs"
   ]
  },
  {
   "cell_type": "markdown",
   "metadata": {},
   "source": [
    "#### Step 3 - Use a comprehension to read in all files\n",
    "\n",
    "**Note:** The data is small (< 10mb total) so it is safe to read all at once."
   ]
  },
  {
   "cell_type": "code",
   "execution_count": 41,
   "metadata": {},
   "outputs": [
    {
     "data": {
      "text/html": [
       "<div><style>\n",
       ".dataframe > thead > tr,\n",
       ".dataframe > tbody > tr {\n",
       "  text-align: right;\n",
       "  white-space: pre-wrap;\n",
       "}\n",
       "</style>\n",
       "<small>shape: (5, 22)</small><table border=\"1\" class=\"dataframe\"><thead><tr><th>playerID</th><th>yearID</th><th>stint</th><th>teamID</th><th>lgID</th><th>G</th><th>AB</th><th>R</th><th>H</th><th>2B</th><th>3B</th><th>HR</th><th>RBI</th><th>SB</th><th>CS</th><th>BB</th><th>SO</th><th>IBB</th><th>HBP</th><th>SH</th><th>SF</th><th>GIDP</th></tr><tr><td>str</td><td>i64</td><td>i64</td><td>str</td><td>str</td><td>i64</td><td>i64</td><td>i64</td><td>i64</td><td>i64</td><td>i64</td><td>i64</td><td>i64</td><td>i64</td><td>i64</td><td>i64</td><td>i64</td><td>str</td><td>str</td><td>str</td><td>str</td><td>i64</td></tr></thead><tbody><tr><td>&quot;abercda01&quot;</td><td>1871</td><td>1</td><td>&quot;TRO&quot;</td><td>&quot;NA&quot;</td><td>1</td><td>4</td><td>0</td><td>0</td><td>0</td><td>0</td><td>0</td><td>0</td><td>0</td><td>0</td><td>0</td><td>0</td><td>null</td><td>null</td><td>null</td><td>null</td><td>0</td></tr><tr><td>&quot;addybo01&quot;</td><td>1871</td><td>1</td><td>&quot;RC1&quot;</td><td>&quot;NA&quot;</td><td>25</td><td>118</td><td>30</td><td>32</td><td>6</td><td>0</td><td>0</td><td>13</td><td>8</td><td>1</td><td>4</td><td>0</td><td>null</td><td>null</td><td>null</td><td>null</td><td>0</td></tr><tr><td>&quot;allisar01&quot;</td><td>1871</td><td>1</td><td>&quot;CL1&quot;</td><td>&quot;NA&quot;</td><td>29</td><td>137</td><td>28</td><td>40</td><td>4</td><td>5</td><td>0</td><td>19</td><td>3</td><td>1</td><td>2</td><td>5</td><td>null</td><td>null</td><td>null</td><td>null</td><td>1</td></tr><tr><td>&quot;allisdo01&quot;</td><td>1871</td><td>1</td><td>&quot;WS3&quot;</td><td>&quot;NA&quot;</td><td>27</td><td>133</td><td>28</td><td>44</td><td>10</td><td>2</td><td>2</td><td>27</td><td>1</td><td>1</td><td>0</td><td>2</td><td>null</td><td>null</td><td>null</td><td>null</td><td>0</td></tr><tr><td>&quot;ansonca01&quot;</td><td>1871</td><td>1</td><td>&quot;RC1&quot;</td><td>&quot;NA&quot;</td><td>25</td><td>120</td><td>29</td><td>39</td><td>11</td><td>3</td><td>0</td><td>16</td><td>6</td><td>2</td><td>2</td><td>1</td><td>null</td><td>null</td><td>null</td><td>null</td><td>0</td></tr></tbody></table></div>"
      ],
      "text/plain": [
       "shape: (5, 22)\n",
       "┌───────────┬────────┬───────┬────────┬───┬──────┬──────┬──────┬──────┐\n",
       "│ playerID  ┆ yearID ┆ stint ┆ teamID ┆ … ┆ HBP  ┆ SH   ┆ SF   ┆ GIDP │\n",
       "│ ---       ┆ ---    ┆ ---   ┆ ---    ┆   ┆ ---  ┆ ---  ┆ ---  ┆ ---  │\n",
       "│ str       ┆ i64    ┆ i64   ┆ str    ┆   ┆ str  ┆ str  ┆ str  ┆ i64  │\n",
       "╞═══════════╪════════╪═══════╪════════╪═══╪══════╪══════╪══════╪══════╡\n",
       "│ abercda01 ┆ 1871   ┆ 1     ┆ TRO    ┆ … ┆ null ┆ null ┆ null ┆ 0    │\n",
       "│ addybo01  ┆ 1871   ┆ 1     ┆ RC1    ┆ … ┆ null ┆ null ┆ null ┆ 0    │\n",
       "│ allisar01 ┆ 1871   ┆ 1     ┆ CL1    ┆ … ┆ null ┆ null ┆ null ┆ 1    │\n",
       "│ allisdo01 ┆ 1871   ┆ 1     ┆ WS3    ┆ … ┆ null ┆ null ┆ null ┆ 0    │\n",
       "│ ansonca01 ┆ 1871   ┆ 1     ┆ RC1    ┆ … ┆ null ┆ null ┆ null ┆ 0    │\n",
       "└───────────┴────────┴───────┴────────┴───┴──────┴──────┴──────┴──────┘"
      ]
     },
     "execution_count": 41,
     "metadata": {},
     "output_type": "execute_result"
    }
   ],
   "source": [
    "dfs = {file_name(p):pl.read_csv(p) for p in files if is_batting_or_teams(p)}\n",
    "dfs['Batting'].head()"
   ]
  },
  {
   "cell_type": "code",
   "execution_count": 42,
   "metadata": {},
   "outputs": [
    {
     "data": {
      "text/html": [
       "<div><style>\n",
       ".dataframe > thead > tr,\n",
       ".dataframe > tbody > tr {\n",
       "  text-align: right;\n",
       "  white-space: pre-wrap;\n",
       "}\n",
       "</style>\n",
       "<small>shape: (5, 24)</small><table border=\"1\" class=\"dataframe\"><thead><tr><th>playerID</th><th>birthYear</th><th>birthMonth</th><th>birthDay</th><th>birthCountry</th><th>birthState</th><th>birthCity</th><th>deathYear</th><th>deathMonth</th><th>deathDay</th><th>deathCountry</th><th>deathState</th><th>deathCity</th><th>nameFirst</th><th>nameLast</th><th>nameGiven</th><th>weight</th><th>height</th><th>bats</th><th>throws</th><th>debut</th><th>finalGame</th><th>retroID</th><th>bbrefID</th></tr><tr><td>str</td><td>i64</td><td>i64</td><td>i64</td><td>str</td><td>str</td><td>str</td><td>i64</td><td>i64</td><td>i64</td><td>str</td><td>str</td><td>str</td><td>str</td><td>str</td><td>str</td><td>i64</td><td>i64</td><td>str</td><td>str</td><td>str</td><td>str</td><td>str</td><td>str</td></tr></thead><tbody><tr><td>&quot;aardsda01&quot;</td><td>1981</td><td>12</td><td>27</td><td>&quot;USA&quot;</td><td>&quot;CO&quot;</td><td>&quot;Denver&quot;</td><td>null</td><td>null</td><td>null</td><td>null</td><td>null</td><td>null</td><td>&quot;David&quot;</td><td>&quot;Aardsma&quot;</td><td>&quot;David Allan&quot;</td><td>215</td><td>75</td><td>&quot;R&quot;</td><td>&quot;R&quot;</td><td>&quot;2004-04-06&quot;</td><td>&quot;2015-08-23&quot;</td><td>&quot;aardd001&quot;</td><td>&quot;aardsda01&quot;</td></tr><tr><td>&quot;aaronha01&quot;</td><td>1934</td><td>2</td><td>5</td><td>&quot;USA&quot;</td><td>&quot;AL&quot;</td><td>&quot;Mobile&quot;</td><td>null</td><td>null</td><td>null</td><td>null</td><td>null</td><td>null</td><td>&quot;Hank&quot;</td><td>&quot;Aaron&quot;</td><td>&quot;Henry Louis&quot;</td><td>180</td><td>72</td><td>&quot;R&quot;</td><td>&quot;R&quot;</td><td>&quot;1954-04-13&quot;</td><td>&quot;1976-10-03&quot;</td><td>&quot;aaroh101&quot;</td><td>&quot;aaronha01&quot;</td></tr><tr><td>&quot;aaronto01&quot;</td><td>1939</td><td>8</td><td>5</td><td>&quot;USA&quot;</td><td>&quot;AL&quot;</td><td>&quot;Mobile&quot;</td><td>1984</td><td>8</td><td>16</td><td>&quot;USA&quot;</td><td>&quot;GA&quot;</td><td>&quot;Atlanta&quot;</td><td>&quot;Tommie&quot;</td><td>&quot;Aaron&quot;</td><td>&quot;Tommie Lee&quot;</td><td>190</td><td>75</td><td>&quot;R&quot;</td><td>&quot;R&quot;</td><td>&quot;1962-04-10&quot;</td><td>&quot;1971-09-26&quot;</td><td>&quot;aarot101&quot;</td><td>&quot;aaronto01&quot;</td></tr><tr><td>&quot;aasedo01&quot;</td><td>1954</td><td>9</td><td>8</td><td>&quot;USA&quot;</td><td>&quot;CA&quot;</td><td>&quot;Orange&quot;</td><td>null</td><td>null</td><td>null</td><td>null</td><td>null</td><td>null</td><td>&quot;Don&quot;</td><td>&quot;Aase&quot;</td><td>&quot;Donald William&quot;</td><td>190</td><td>75</td><td>&quot;R&quot;</td><td>&quot;R&quot;</td><td>&quot;1977-07-26&quot;</td><td>&quot;1990-10-03&quot;</td><td>&quot;aased001&quot;</td><td>&quot;aasedo01&quot;</td></tr><tr><td>&quot;abadan01&quot;</td><td>1972</td><td>8</td><td>25</td><td>&quot;USA&quot;</td><td>&quot;FL&quot;</td><td>&quot;Palm Beach&quot;</td><td>null</td><td>null</td><td>null</td><td>null</td><td>null</td><td>null</td><td>&quot;Andy&quot;</td><td>&quot;Abad&quot;</td><td>&quot;Fausto Andres&quot;</td><td>184</td><td>73</td><td>&quot;L&quot;</td><td>&quot;L&quot;</td><td>&quot;2001-09-10&quot;</td><td>&quot;2006-04-13&quot;</td><td>&quot;abada001&quot;</td><td>&quot;abadan01&quot;</td></tr></tbody></table></div>"
      ],
      "text/plain": [
       "shape: (5, 24)\n",
       "┌───────────┬───────────┬────────────┬──────────┬───┬───────────┬───────────┬──────────┬───────────┐\n",
       "│ playerID  ┆ birthYear ┆ birthMonth ┆ birthDay ┆ … ┆ debut     ┆ finalGame ┆ retroID  ┆ bbrefID   │\n",
       "│ ---       ┆ ---       ┆ ---        ┆ ---      ┆   ┆ ---       ┆ ---       ┆ ---      ┆ ---       │\n",
       "│ str       ┆ i64       ┆ i64        ┆ i64      ┆   ┆ str       ┆ str       ┆ str      ┆ str       │\n",
       "╞═══════════╪═══════════╪════════════╪══════════╪═══╪═══════════╪═══════════╪══════════╪═══════════╡\n",
       "│ aardsda01 ┆ 1981      ┆ 12         ┆ 27       ┆ … ┆ 2004-04-0 ┆ 2015-08-2 ┆ aardd001 ┆ aardsda01 │\n",
       "│           ┆           ┆            ┆          ┆   ┆ 6         ┆ 3         ┆          ┆           │\n",
       "│ aaronha01 ┆ 1934      ┆ 2          ┆ 5        ┆ … ┆ 1954-04-1 ┆ 1976-10-0 ┆ aaroh101 ┆ aaronha01 │\n",
       "│           ┆           ┆            ┆          ┆   ┆ 3         ┆ 3         ┆          ┆           │\n",
       "│ aaronto01 ┆ 1939      ┆ 8          ┆ 5        ┆ … ┆ 1962-04-1 ┆ 1971-09-2 ┆ aarot101 ┆ aaronto01 │\n",
       "│           ┆           ┆            ┆          ┆   ┆ 0         ┆ 6         ┆          ┆           │\n",
       "│ aasedo01  ┆ 1954      ┆ 9          ┆ 8        ┆ … ┆ 1977-07-2 ┆ 1990-10-0 ┆ aased001 ┆ aasedo01  │\n",
       "│           ┆           ┆            ┆          ┆   ┆ 6         ┆ 3         ┆          ┆           │\n",
       "│ abadan01  ┆ 1972      ┆ 8          ┆ 25       ┆ … ┆ 2001-09-1 ┆ 2006-04-1 ┆ abada001 ┆ abadan01  │\n",
       "│           ┆           ┆            ┆          ┆   ┆ 0         ┆ 3         ┆          ┆           │\n",
       "└───────────┴───────────┴────────────┴──────────┴───┴───────────┴───────────┴──────────┴───────────┘"
      ]
     },
     "execution_count": 42,
     "metadata": {},
     "output_type": "execute_result"
    }
   ],
   "source": [
    "dfs['People'].head()"
   ]
  },
  {
   "cell_type": "markdown",
   "metadata": {},
   "source": [
    "#### Step 4 - Preprocess each file."
   ]
  },
  {
   "cell_type": "code",
   "execution_count": 43,
   "metadata": {},
   "outputs": [
    {
     "data": {
      "text/html": [
       "<div><style>\n",
       ".dataframe > thead > tr,\n",
       ".dataframe > tbody > tr {\n",
       "  text-align: right;\n",
       "  white-space: pre-wrap;\n",
       "}\n",
       "</style>\n",
       "<small>shape: (2, 2)</small><table border=\"1\" class=\"dataframe\"><thead><tr><th>playerID</th><th>Total Hits</th></tr><tr><td>str</td><td>f64</td></tr></thead><tbody><tr><td>&quot;delanro01&quot;</td><td>0.0</td></tr><tr><td>&quot;donaljo02&quot;</td><td>5.0</td></tr></tbody></table></div>"
      ],
      "text/plain": [
       "shape: (2, 2)\n",
       "┌───────────┬────────────┐\n",
       "│ playerID  ┆ Total Hits │\n",
       "│ ---       ┆ ---        │\n",
       "│ str       ┆ f64        │\n",
       "╞═══════════╪════════════╡\n",
       "│ delanro01 ┆ 0.0        │\n",
       "│ donaljo02 ┆ 5.0        │\n",
       "└───────────┴────────────┘"
      ]
     },
     "execution_count": 43,
     "metadata": {},
     "output_type": "execute_result"
    }
   ],
   "source": [
    "# Filter, select, and aggregate hits for 2010.\n",
    "hits_in_2010_raw = (dfs['Batting']\n",
    "                   .select(['yearID', 'playerID', 'H'])\n",
    "                   .filter(pl.col('yearID') == 2010)\n",
    "                   .group_by('playerID')\n",
    "                   .agg(pl.col('H').mean().alias('Total Hits'))\n",
    "                   )\n",
    "hits_in_2010_raw.head(2)"
   ]
  },
  {
   "cell_type": "code",
   "execution_count": 44,
   "metadata": {},
   "outputs": [
    {
     "data": {
      "text/html": [
       "<div><style>\n",
       ".dataframe > thead > tr,\n",
       ".dataframe > tbody > tr {\n",
       "  text-align: right;\n",
       "  white-space: pre-wrap;\n",
       "}\n",
       "</style>\n",
       "<small>shape: (2, 3)</small><table border=\"1\" class=\"dataframe\"><thead><tr><th>playerID</th><th>nameFirst</th><th>nameLast</th></tr><tr><td>str</td><td>str</td><td>str</td></tr></thead><tbody><tr><td>&quot;aardsda01&quot;</td><td>&quot;David&quot;</td><td>&quot;Aardsma&quot;</td></tr><tr><td>&quot;aaronha01&quot;</td><td>&quot;Hank&quot;</td><td>&quot;Aaron&quot;</td></tr></tbody></table></div>"
      ],
      "text/plain": [
       "shape: (2, 3)\n",
       "┌───────────┬───────────┬──────────┐\n",
       "│ playerID  ┆ nameFirst ┆ nameLast │\n",
       "│ ---       ┆ ---       ┆ ---      │\n",
       "│ str       ┆ str       ┆ str      │\n",
       "╞═══════════╪═══════════╪══════════╡\n",
       "│ aardsda01 ┆ David     ┆ Aardsma  │\n",
       "│ aaronha01 ┆ Hank      ┆ Aaron    │\n",
       "└───────────┴───────────┴──────────┘"
      ]
     },
     "execution_count": 44,
     "metadata": {},
     "output_type": "execute_result"
    }
   ],
   "source": [
    "# Grab the first and last names from People.\n",
    "\n",
    "player_names = (dfs['People']\n",
    "                .select(['playerID', 'nameFirst', 'nameLast'])\n",
    "               )\n",
    "player_names.head(2)"
   ]
  },
  {
   "cell_type": "markdown",
   "metadata": {},
   "source": [
    "#### Step 4 -- Join the tables"
   ]
  },
  {
   "cell_type": "code",
   "execution_count": 45,
   "metadata": {},
   "outputs": [
    {
     "data": {
      "text/html": [
       "<div><style>\n",
       ".dataframe > thead > tr,\n",
       ".dataframe > tbody > tr {\n",
       "  text-align: right;\n",
       "  white-space: pre-wrap;\n",
       "}\n",
       "</style>\n",
       "<small>shape: (5, 3)</small><table border=\"1\" class=\"dataframe\"><thead><tr><th>Total Hits</th><th>nameFirst</th><th>nameLast</th></tr><tr><td>f64</td><td>str</td><td>str</td></tr></thead><tbody><tr><td>0.0</td><td>&quot;Rob&quot;</td><td>&quot;Delaney&quot;</td></tr><tr><td>5.0</td><td>&quot;Josh&quot;</td><td>&quot;Donaldson&quot;</td></tr><tr><td>79.0</td><td>&quot;Miguel&quot;</td><td>&quot;Montero&quot;</td></tr><tr><td>12.0</td><td>&quot;Cory&quot;</td><td>&quot;Sullivan&quot;</td></tr><tr><td>1.0</td><td>&quot;Mike&quot;</td><td>&quot;Baxter&quot;</td></tr></tbody></table></div>"
      ],
      "text/plain": [
       "shape: (5, 3)\n",
       "┌────────────┬───────────┬───────────┐\n",
       "│ Total Hits ┆ nameFirst ┆ nameLast  │\n",
       "│ ---        ┆ ---       ┆ ---       │\n",
       "│ f64        ┆ str       ┆ str       │\n",
       "╞════════════╪═══════════╪═══════════╡\n",
       "│ 0.0        ┆ Rob       ┆ Delaney   │\n",
       "│ 5.0        ┆ Josh      ┆ Donaldson │\n",
       "│ 79.0       ┆ Miguel    ┆ Montero   │\n",
       "│ 12.0       ┆ Cory      ┆ Sullivan  │\n",
       "│ 1.0        ┆ Mike      ┆ Baxter    │\n",
       "└────────────┴───────────┴───────────┘"
      ]
     },
     "execution_count": 45,
     "metadata": {},
     "output_type": "execute_result"
    }
   ],
   "source": [
    "hits_in_2010 = (hits_in_2010_raw \n",
    "                .join(player_names, on='playerID', how='left')\n",
    "                .drop('playerID')\n",
    "               )\n",
    "hits_in_2010.head()"
   ]
  },
  {
   "cell_type": "markdown",
   "metadata": {},
   "source": [
    "## <font color=\"red\"> Exercise 3.2 </font>\n",
    "\n",
    "We want to get the total hits allowed for all pitchers during the 2000-2010 seasons.  Use `glob` and a `dict` to collect this information into a table that includes the players first and last names."
   ]
  },
  {
   "cell_type": "code",
   "execution_count": null,
   "metadata": {},
   "outputs": [],
   "source": [
    "from glob import glob\n",
    "files = glob('./data/baseball/core/*.csv')\n",
    "\n"
   ]
  },
  {
   "cell_type": "code",
   "execution_count": 77,
   "metadata": {},
   "outputs": [],
   "source": [
    "import polars as pl\n",
    "import glob\n",
    "\n",
    "# Step 1: Use glob to collect the file paths for the relevant seasons (2000-2010)\n",
    "file_paths = glob.glob('./data/baseball/core/*.csv')  # Modify with the correct file paths\n",
    "\n",
    "# Step 2: Define a list to hold the DataFrames for each season\n",
    "dfs = []\n",
    "\n",
    "for file in file_paths:\n",
    "    # Load each file into a Polars DataFrame\n",
    "    df = pl.read_csv(file)\n",
    "    \n",
    "    # Step 3: Filter only the pitchers and extract relevant columns (assuming there's a 'Position' column and 'H' for hits)\n",
    "    df_filtered = df.filter(pl.col(\"Position\") == \"P\").select([\n",
    "        pl.col(\"playerID\"),  # playerID to join with player names later\n",
    "        pl.col(\"H\"),         # Hits allowed\n",
    "        pl.col(\"yearID\"),    # Year to filter 2000-2010\n",
    "    ])\n",
    "    \n",
    "    # Step 4: Filter only for the 2000-2010 seasons\n",
    "    df_filtered = df_filtered.filter((pl.col(\"yearID\") >= 2000) & (pl.col(\"yearID\") <= 2010))\n",
    "    \n",
    "    # Add the filtered DataFrame to the list\n",
    "    dfs.append(df_filtered)\n",
    "\n",
    "# Step 5: Concatenate all DataFrames for each season\n",
    "pitching_data = pl.concat(dfs)\n",
    "\n",
    "# Step 6: Load player information to get first and last names (assuming 'Master.csv' holds player info)\n",
    "player_info = pl.read_csv(\"path_to_player_info/Master.csv\").select([\n",
    "    pl.col(\"playerID\"),      # Key to join\n",
    "    pl.col(\"nameFirst\"),     # Player's first name\n",
    "    pl.col(\"nameLast\"),      # Player's last name\n",
    "])\n",
    "\n",
    "# Step 7: Join pitching data with player information\n",
    "merged_data = pitching_data.join(player_info, on=\"playerID\", how=\"inner\")\n",
    "\n",
    "# Step 8: Group by player and sum hits allowed\n",
    "hits_allowed_per_player = merged_data.groupby([\"playerID\", \"nameFirst\", \"nameLast\"]).agg([\n",
    "    pl.col(\"H\").sum().alias(\"total_hits_allowed\")\n",
    "])\n",
    "\n",
    "# Step 9: Show the result\n",
    "print(hits_allowed_per_player)\n"
   ]
  }
 ],
 "metadata": {
  "kernelspec": {
   "display_name": "Python 3 (ipykernel)",
   "language": "python",
   "name": "python3"
  },
  "language_info": {
   "codemirror_mode": {
    "name": "ipython",
    "version": 3
   },
   "file_extension": ".py",
   "mimetype": "text/x-python",
   "name": "python",
   "nbconvert_exporter": "python",
   "pygments_lexer": "ipython3",
   "version": "3.12.5"
  }
 },
 "nbformat": 4,
 "nbformat_minor": 4
}
