{
 "cells": [
  {
   "cell_type": "code",
   "execution_count": 106,
   "id": "90f71b3f",
   "metadata": {},
   "outputs": [],
   "source": [
    "import polars as pl\n",
    "import polars.selectors as cs"
   ]
  },
  {
   "cell_type": "markdown",
   "id": "7bc1fa3a",
   "metadata": {},
   "source": [
    "# Aggregating rates across rows and columns"
   ]
  },
  {
   "cell_type": "markdown",
   "id": "dc525946",
   "metadata": {},
   "source": [
    "## Example - The mean of a rate isn't the combined rate"
   ]
  },
  {
   "cell_type": "code",
   "execution_count": 6,
   "id": "df6c8f57",
   "metadata": {},
   "outputs": [
    {
     "data": {
      "text/html": [
       "<div><style>\n",
       ".dataframe > thead > tr,\n",
       ".dataframe > tbody > tr {\n",
       "  text-align: right;\n",
       "  white-space: pre-wrap;\n",
       "}\n",
       "</style>\n",
       "<small>shape: (8, 2)</small><table border=\"1\" class=\"dataframe\"><thead><tr><th>Group</th><th>Value</th></tr><tr><td>str</td><td>i64</td></tr></thead><tbody><tr><td>&quot;A&quot;</td><td>1</td></tr><tr><td>&quot;A&quot;</td><td>2</td></tr><tr><td>&quot;A&quot;</td><td>3</td></tr><tr><td>&quot;B&quot;</td><td>5</td></tr><tr><td>&quot;B&quot;</td><td>2</td></tr><tr><td>&quot;C&quot;</td><td>3</td></tr><tr><td>&quot;C&quot;</td><td>3</td></tr><tr><td>&quot;C&quot;</td><td>2</td></tr></tbody></table></div>"
      ],
      "text/plain": [
       "shape: (8, 2)\n",
       "┌───────┬───────┐\n",
       "│ Group ┆ Value │\n",
       "│ ---   ┆ ---   │\n",
       "│ str   ┆ i64   │\n",
       "╞═══════╪═══════╡\n",
       "│ A     ┆ 1     │\n",
       "│ A     ┆ 2     │\n",
       "│ A     ┆ 3     │\n",
       "│ B     ┆ 5     │\n",
       "│ B     ┆ 2     │\n",
       "│ C     ┆ 3     │\n",
       "│ C     ┆ 3     │\n",
       "│ C     ┆ 2     │\n",
       "└───────┴───────┘"
      ]
     },
     "execution_count": 6,
     "metadata": {},
     "output_type": "execute_result"
    }
   ],
   "source": [
    "(df :=\n",
    " pl.DataFrame({'Group': 3*['A'] + 2*['B'] + 3*['C'],\n",
    "               'Value': [1, 2, 3, 5, 2, 3, 3, 2]})\n",
    ")"
   ]
  },
  {
   "cell_type": "markdown",
   "id": "cbebc7b6",
   "metadata": {},
   "source": [
    "#### Group means"
   ]
  },
  {
   "cell_type": "code",
   "execution_count": 8,
   "id": "6ce7d46e",
   "metadata": {},
   "outputs": [
    {
     "data": {
      "text/html": [
       "<div><style>\n",
       ".dataframe > thead > tr,\n",
       ".dataframe > tbody > tr {\n",
       "  text-align: right;\n",
       "  white-space: pre-wrap;\n",
       "}\n",
       "</style>\n",
       "<small>shape: (3, 2)</small><table border=\"1\" class=\"dataframe\"><thead><tr><th>Group</th><th>mean_value</th></tr><tr><td>str</td><td>f64</td></tr></thead><tbody><tr><td>&quot;A&quot;</td><td>2.0</td></tr><tr><td>&quot;C&quot;</td><td>2.666667</td></tr><tr><td>&quot;B&quot;</td><td>3.5</td></tr></tbody></table></div>"
      ],
      "text/plain": [
       "shape: (3, 2)\n",
       "┌───────┬────────────┐\n",
       "│ Group ┆ mean_value │\n",
       "│ ---   ┆ ---        │\n",
       "│ str   ┆ f64        │\n",
       "╞═══════╪════════════╡\n",
       "│ A     ┆ 2.0        │\n",
       "│ C     ┆ 2.666667   │\n",
       "│ B     ┆ 3.5        │\n",
       "└───────┴────────────┘"
      ]
     },
     "execution_count": 8,
     "metadata": {},
     "output_type": "execute_result"
    }
   ],
   "source": [
    "(df\n",
    ".group_by('Group')\n",
    ".agg(mean_value = pl.col('Value').mean())\n",
    ")"
   ]
  },
  {
   "cell_type": "markdown",
   "id": "3b021209",
   "metadata": {},
   "source": [
    "#### Mean of groups means"
   ]
  },
  {
   "cell_type": "code",
   "execution_count": 20,
   "id": "c3701e7e",
   "metadata": {},
   "outputs": [
    {
     "data": {
      "text/html": [
       "<div><style>\n",
       ".dataframe > thead > tr,\n",
       ".dataframe > tbody > tr {\n",
       "  text-align: right;\n",
       "  white-space: pre-wrap;\n",
       "}\n",
       "</style>\n",
       "<small>shape: (1, 1)</small><table border=\"1\" class=\"dataframe\"><thead><tr><th>mean_of_means</th></tr><tr><td>f64</td></tr></thead><tbody><tr><td>2.722222</td></tr></tbody></table></div>"
      ],
      "text/plain": [
       "shape: (1, 1)\n",
       "┌───────────────┐\n",
       "│ mean_of_means │\n",
       "│ ---           │\n",
       "│ f64           │\n",
       "╞═══════════════╡\n",
       "│ 2.722222      │\n",
       "└───────────────┘"
      ]
     },
     "execution_count": 20,
     "metadata": {},
     "output_type": "execute_result"
    }
   ],
   "source": [
    "(mean_of_group_means :=\n",
    " df\n",
    ".group_by('Group')\n",
    ".agg(mean_value = pl.col('Value').mean())\n",
    ".select(pl.col('mean_value').mean().alias('mean_of_means'))\n",
    ")"
   ]
  },
  {
   "cell_type": "markdown",
   "id": "ad20dabe",
   "metadata": {},
   "source": [
    "#### Grand mean"
   ]
  },
  {
   "cell_type": "code",
   "execution_count": 21,
   "id": "18624acc",
   "metadata": {},
   "outputs": [
    {
     "data": {
      "text/html": [
       "<div><style>\n",
       ".dataframe > thead > tr,\n",
       ".dataframe > tbody > tr {\n",
       "  text-align: right;\n",
       "  white-space: pre-wrap;\n",
       "}\n",
       "</style>\n",
       "<small>shape: (1, 1)</small><table border=\"1\" class=\"dataframe\"><thead><tr><th>grand_mean</th></tr><tr><td>f64</td></tr></thead><tbody><tr><td>2.625</td></tr></tbody></table></div>"
      ],
      "text/plain": [
       "shape: (1, 1)\n",
       "┌────────────┐\n",
       "│ grand_mean │\n",
       "│ ---        │\n",
       "│ f64        │\n",
       "╞════════════╡\n",
       "│ 2.625      │\n",
       "└────────────┘"
      ]
     },
     "execution_count": 21,
     "metadata": {},
     "output_type": "execute_result"
    }
   ],
   "source": [
    "(grand_mean :=\n",
    " df\n",
    ".select(pl.col('Value').mean().alias('grand_mean'))\n",
    ")"
   ]
  },
  {
   "cell_type": "markdown",
   "id": "479625b7",
   "metadata": {},
   "source": [
    "#### Mean of the group means `!=` grand mean"
   ]
  },
  {
   "cell_type": "code",
   "execution_count": 23,
   "id": "a097208f",
   "metadata": {},
   "outputs": [
    {
     "data": {
      "text/html": [
       "<div><style>\n",
       ".dataframe > thead > tr,\n",
       ".dataframe > tbody > tr {\n",
       "  text-align: right;\n",
       "  white-space: pre-wrap;\n",
       "}\n",
       "</style>\n",
       "<small>shape: (1, 1)</small><table border=\"1\" class=\"dataframe\"><thead><tr><th>mean_of_means</th></tr><tr><td>f64</td></tr></thead><tbody><tr><td>0.097222</td></tr></tbody></table></div>"
      ],
      "text/plain": [
       "shape: (1, 1)\n",
       "┌───────────────┐\n",
       "│ mean_of_means │\n",
       "│ ---           │\n",
       "│ f64           │\n",
       "╞═══════════════╡\n",
       "│ 0.097222      │\n",
       "└───────────────┘"
      ]
     },
     "execution_count": 23,
     "metadata": {},
     "output_type": "execute_result"
    }
   ],
   "source": [
    "mean_of_group_means - grand_mean"
   ]
  },
  {
   "cell_type": "markdown",
   "id": "567e5356",
   "metadata": {},
   "source": [
    "### Examples of common rates\n",
    "\n",
    "1. Mean,\n",
    "2. Percent of total and other ratios,\n",
    "3. Population rates (e.g., X per 1K people),\n",
    "4. Anything you describe using \"per\"\n"
   ]
  },
  {
   "cell_type": "markdown",
   "id": "2750482d",
   "metadata": {},
   "source": [
    "## Review - Aggregating rates\n",
    "\n",
    "When aggregating a rate across groups, we need to\n",
    "\n",
    "1. Aggregate the numerator and demon, then\n",
    "2. Compute the rate from to using the aggregated values."
   ]
  },
  {
   "cell_type": "code",
   "execution_count": 22,
   "id": "31298a8d",
   "metadata": {},
   "outputs": [
    {
     "data": {
      "text/html": [
       "<div><style>\n",
       ".dataframe > thead > tr,\n",
       ".dataframe > tbody > tr {\n",
       "  text-align: right;\n",
       "  white-space: pre-wrap;\n",
       "}\n",
       "</style>\n",
       "<small>shape: (1, 1)</small><table border=\"1\" class=\"dataframe\"><thead><tr><th>grand_mean</th></tr><tr><td>f64</td></tr></thead><tbody><tr><td>2.625</td></tr></tbody></table></div>"
      ],
      "text/plain": [
       "shape: (1, 1)\n",
       "┌────────────┐\n",
       "│ grand_mean │\n",
       "│ ---        │\n",
       "│ f64        │\n",
       "╞════════════╡\n",
       "│ 2.625      │\n",
       "└────────────┘"
      ]
     },
     "execution_count": 22,
     "metadata": {},
     "output_type": "execute_result"
    }
   ],
   "source": [
    "(grand_mean_via_groups :=\n",
    " df\n",
    ".group_by('Group')\n",
    ".agg(sum_value = pl.col('Value').sum(),\n",
    "     cnt_value = pl.col('Value').count())\n",
    ".select(pl.col('sum_value').sum().alias('sum_of_sums'),\n",
    "        pl.col('cnt_value').sum().alias('cnt_of_cnts'),\n",
    "       )\n",
    ".with_columns(grand_mean = pl.col('sum_of_sums')/pl.col('cnt_of_cnts'))\n",
    ".drop('sum_of_sums', 'cnt_of_cnts')\n",
    ")"
   ]
  },
  {
   "cell_type": "code",
   "execution_count": 27,
   "id": "ac733ebf",
   "metadata": {},
   "outputs": [
    {
     "data": {
      "text/html": [
       "<div><style>\n",
       ".dataframe > thead > tr,\n",
       ".dataframe > tbody > tr {\n",
       "  text-align: right;\n",
       "  white-space: pre-wrap;\n",
       "}\n",
       "</style>\n",
       "<small>shape: (1, 1)</small><table border=\"1\" class=\"dataframe\"><thead><tr><th>grand_mean</th></tr><tr><td>f64</td></tr></thead><tbody><tr><td>0.0</td></tr></tbody></table></div>"
      ],
      "text/plain": [
       "shape: (1, 1)\n",
       "┌────────────┐\n",
       "│ grand_mean │\n",
       "│ ---        │\n",
       "│ f64        │\n",
       "╞════════════╡\n",
       "│ 0.0        │\n",
       "└────────────┘"
      ]
     },
     "execution_count": 27,
     "metadata": {},
     "output_type": "execute_result"
    }
   ],
   "source": [
    "grand_mean_via_groups - grand_mean"
   ]
  },
  {
   "cell_type": "markdown",
   "id": "cc135d0c",
   "metadata": {},
   "source": [
    "### Why do we care?\n",
    "\n",
    "Because sometimes the data is already an aggregated value!"
   ]
  },
  {
   "cell_type": "code",
   "execution_count": 26,
   "id": "99d26b29",
   "metadata": {},
   "outputs": [
    {
     "data": {
      "text/html": [
       "<div><style>\n",
       ".dataframe > thead > tr,\n",
       ".dataframe > tbody > tr {\n",
       "  text-align: right;\n",
       "  white-space: pre-wrap;\n",
       "}\n",
       "</style>\n",
       "<small>shape: (8, 6)</small><table border=\"1\" class=\"dataframe\"><thead><tr><th>ID</th><th>Salesperson</th><th>Compact</th><th>Sedan</th><th>SUV</th><th>Truck</th></tr><tr><td>i64</td><td>str</td><td>i64</td><td>i64</td><td>i64</td><td>i64</td></tr></thead><tbody><tr><td>0</td><td>&quot;Ann&quot;</td><td>22</td><td>18</td><td>15</td><td>12</td></tr><tr><td>1</td><td>&quot;Bob&quot;</td><td>19</td><td>12</td><td>17</td><td>20</td></tr><tr><td>2</td><td>&quot;Yolanda&quot;</td><td>19</td><td>8</td><td>32</td><td>15</td></tr><tr><td>3</td><td>&quot;Xerxes&quot;</td><td>12</td><td>23</td><td>18</td><td>9</td></tr><tr><td>0</td><td>&quot;Ann&quot;</td><td>22</td><td>18</td><td>15</td><td>12</td></tr><tr><td>1</td><td>&quot;Bob&quot;</td><td>20</td><td>14</td><td>6</td><td>24</td></tr><tr><td>2</td><td>&quot;Yolanda&quot;</td><td>19</td><td>10</td><td>28</td><td>17</td></tr><tr><td>3</td><td>&quot;Xerxes&quot;</td><td>11</td><td>27</td><td>17</td><td>9</td></tr></tbody></table></div>"
      ],
      "text/plain": [
       "shape: (8, 6)\n",
       "┌─────┬─────────────┬─────────┬───────┬─────┬───────┐\n",
       "│ ID  ┆ Salesperson ┆ Compact ┆ Sedan ┆ SUV ┆ Truck │\n",
       "│ --- ┆ ---         ┆ ---     ┆ ---   ┆ --- ┆ ---   │\n",
       "│ i64 ┆ str         ┆ i64     ┆ i64   ┆ i64 ┆ i64   │\n",
       "╞═════╪═════════════╪═════════╪═══════╪═════╪═══════╡\n",
       "│ 0   ┆ Ann         ┆ 22      ┆ 18    ┆ 15  ┆ 12    │\n",
       "│ 1   ┆ Bob         ┆ 19      ┆ 12    ┆ 17  ┆ 20    │\n",
       "│ 2   ┆ Yolanda     ┆ 19      ┆ 8     ┆ 32  ┆ 15    │\n",
       "│ 3   ┆ Xerxes      ┆ 12      ┆ 23    ┆ 18  ┆ 9     │\n",
       "│ 0   ┆ Ann         ┆ 22      ┆ 18    ┆ 15  ┆ 12    │\n",
       "│ 1   ┆ Bob         ┆ 20      ┆ 14    ┆ 6   ┆ 24    │\n",
       "│ 2   ┆ Yolanda     ┆ 19      ┆ 10    ┆ 28  ┆ 17    │\n",
       "│ 3   ┆ Xerxes      ┆ 11      ┆ 27    ┆ 17  ┆ 9     │\n",
       "└─────┴─────────────┴─────────┴───────┴─────┴───────┘"
      ]
     },
     "execution_count": 26,
     "metadata": {},
     "output_type": "execute_result"
    }
   ],
   "source": [
    "( auto_sales :=\n",
    "  pl.read_csv('./data/auto_sales_*.csv')\n",
    "  .rename({'':'ID'})\n",
    ")"
   ]
  },
  {
   "cell_type": "markdown",
   "id": "9c6f6025",
   "metadata": {},
   "source": [
    "## Aggregating a rate across rows and columns\n",
    "\n",
    "1. Compute the numerator and denominator row aggregations using `group_by` and `agg`.\n",
    "2. Compute the numerator and denominator column aggregations using `reduce` or `fold`."
   ]
  },
  {
   "cell_type": "code",
   "execution_count": 29,
   "id": "766a070f",
   "metadata": {},
   "outputs": [
    {
     "data": {
      "text/plain": [
       "['Compact', 'Sedan', 'SUV', 'Truck']"
      ]
     },
     "execution_count": 29,
     "metadata": {},
     "output_type": "execute_result"
    }
   ],
   "source": [
    "(type_columns := \n",
    " [c for c in auto_sales.columns if c not in ('ID','Salesperson')]\n",
    ")"
   ]
  },
  {
   "cell_type": "code",
   "execution_count": 79,
   "id": "fba0c6c3",
   "metadata": {},
   "outputs": [
    {
     "data": {
      "text/html": [
       "<div><style>\n",
       ".dataframe > thead > tr,\n",
       ".dataframe > tbody > tr {\n",
       "  text-align: right;\n",
       "  white-space: pre-wrap;\n",
       "}\n",
       "</style>\n",
       "<small>shape: (4, 2)</small><table border=\"1\" class=\"dataframe\"><thead><tr><th>Salesperson</th><th>grand_mean</th></tr><tr><td>str</td><td>f64</td></tr></thead><tbody><tr><td>&quot;Ann&quot;</td><td>16.75</td></tr><tr><td>&quot;Yolanda&quot;</td><td>18.5</td></tr><tr><td>&quot;Xerxes&quot;</td><td>15.75</td></tr><tr><td>&quot;Bob&quot;</td><td>16.5</td></tr></tbody></table></div>"
      ],
      "text/plain": [
       "shape: (4, 2)\n",
       "┌─────────────┬────────────┐\n",
       "│ Salesperson ┆ grand_mean │\n",
       "│ ---         ┆ ---        │\n",
       "│ str         ┆ f64        │\n",
       "╞═════════════╪════════════╡\n",
       "│ Ann         ┆ 16.75      │\n",
       "│ Yolanda     ┆ 18.5       │\n",
       "│ Xerxes      ┆ 15.75      │\n",
       "│ Bob         ┆ 16.5       │\n",
       "└─────────────┴────────────┘"
      ]
     },
     "execution_count": 79,
     "metadata": {},
     "output_type": "execute_result"
    }
   ],
   "source": [
    "(auto_sales\n",
    " .group_by('Salesperson')\n",
    " .agg(**{f'sum_{c}':pl.col(c).sum() for c in type_columns},\n",
    "      **{f'cnt_{c}':pl.col(c).count() for c in type_columns},\n",
    "     )\n",
    " .with_columns(sum_types = pl.reduce(lambda acc, col: acc + col, cs.starts_with('sum')),\n",
    "               cnt_types = pl.reduce(lambda acc, col: acc + col, cs.starts_with('cnt')),\n",
    "              )\n",
    " .with_columns(grand_mean = pl.col('sum_types')/pl.col('cnt_types'))\n",
    ".drop(cs.starts_with('sum') | cs.starts_with('cnt'))\n",
    " \n",
    ")"
   ]
  },
  {
   "cell_type": "markdown",
   "id": "0ab2105b",
   "metadata": {},
   "source": [
    "## <font color=\"red\"> Exercise 3.9.2 </font> - World Bank Population Ratio (urban/total) for each region over the 1980's\n",
    "\n",
    "Use the approach illustrated in the last example to compute the overall ratio of Urban to Total population for each region across all years in the 1990's. Do this by\n",
    "\n",
    "1. Loading the raw WB data,\n",
    "2. Select the columns of interest using column selectors,\n",
    "3. Filter to the two measures of interest,\n",
    "4. Unstack the two measures,\n",
    "5. Group and aggregate the numerator and denominator of the ratio across rows,\n",
    "6. Use `reduce` to aggregate the numerator and denominator of the ratio across columns, and\n",
    "7. Compute the ratio."
   ]
  },
  {
   "cell_type": "code",
   "execution_count": null,
   "id": "364c5aeb",
   "metadata": {
    "scrolled": true
   },
   "outputs": [],
   "source": [
    "( wb :=\n",
    "  pl.read_csv('./data/world_bank_raw_download_F23.csv', infer_schema_length=10000, null_values = '..')\n",
    "  .filter(pl.col(\"Series Name\").is_not_null())\n",
    ")"
   ]
  },
  {
   "cell_type": "code",
   "execution_count": 110,
   "id": "8a50178f-2dca-4d12-8eb4-34f28e771304",
   "metadata": {},
   "outputs": [
    {
     "data": {
      "text/html": [
       "<div><style>\n",
       ".dataframe > thead > tr,\n",
       ".dataframe > tbody > tr {\n",
       "  text-align: right;\n",
       "  white-space: pre-wrap;\n",
       "}\n",
       "</style>\n",
       "<small>shape: (7, 6)</small><table border=\"1\" class=\"dataframe\"><thead><tr><th>Region</th><th>sum_urban_population</th><th>sum_total_population</th><th>total_sum_urban</th><th>total_sum_total</th><th>overall_ratio</th></tr><tr><td>str</td><td>f64</td><td>f64</td><td>f64</td><td>f64</td><td>f64</td></tr></thead><tbody><tr><td>&quot;Africa&quot;</td><td>1.4241e10</td><td>4.2861e10</td><td>1.4241e10</td><td>4.2861e10</td><td>0.332257</td></tr><tr><td>&quot;Asia&quot;</td><td>6.1075e10</td><td>1.8664e11</td><td>6.1075e10</td><td>1.8664e11</td><td>0.327232</td></tr><tr><td>&quot;Europe&quot;</td><td>3.0163e10</td><td>4.2882e10</td><td>3.0163e10</td><td>4.2882e10</td><td>0.703395</td></tr><tr><td>null</td><td>2.2752e11</td><td>5.4466e11</td><td>2.2752e11</td><td>5.4466e11</td><td>0.417733</td></tr><tr><td>&quot;The Americas&quot;</td><td>3.4530e10</td><td>4.6308e10</td><td>3.4530e10</td><td>4.6308e10</td><td>0.745658</td></tr><tr><td>&quot;Oceania&quot;</td><td>1.2005e9</td><td>1.7159e9</td><td>1.2005e9</td><td>1.7159e9</td><td>0.699632</td></tr><tr><td>&quot;Middle East&quot;</td><td>5.6077e9</td><td>9.0366e9</td><td>5.6077e9</td><td>9.0366e9</td><td>0.62056</td></tr></tbody></table></div>"
      ],
      "text/plain": [
       "shape: (7, 6)\n",
       "┌──────────────┬────────────────┬────────────────┬────────────────┬────────────────┬───────────────┐\n",
       "│ Region       ┆ sum_urban_popu ┆ sum_total_popu ┆ total_sum_urba ┆ total_sum_tota ┆ overall_ratio │\n",
       "│ ---          ┆ lation         ┆ lation         ┆ n              ┆ l              ┆ ---           │\n",
       "│ str          ┆ ---            ┆ ---            ┆ ---            ┆ ---            ┆ f64           │\n",
       "│              ┆ f64            ┆ f64            ┆ f64            ┆ f64            ┆               │\n",
       "╞══════════════╪════════════════╪════════════════╪════════════════╪════════════════╪═══════════════╡\n",
       "│ Africa       ┆ 1.4241e10      ┆ 4.2861e10      ┆ 1.4241e10      ┆ 4.2861e10      ┆ 0.332257      │\n",
       "│ Asia         ┆ 6.1075e10      ┆ 1.8664e11      ┆ 6.1075e10      ┆ 1.8664e11      ┆ 0.327232      │\n",
       "│ Europe       ┆ 3.0163e10      ┆ 4.2882e10      ┆ 3.0163e10      ┆ 4.2882e10      ┆ 0.703395      │\n",
       "│ null         ┆ 2.2752e11      ┆ 5.4466e11      ┆ 2.2752e11      ┆ 5.4466e11      ┆ 0.417733      │\n",
       "│ The Americas ┆ 3.4530e10      ┆ 4.6308e10      ┆ 3.4530e10      ┆ 4.6308e10      ┆ 0.745658      │\n",
       "│ Oceania      ┆ 1.2005e9       ┆ 1.7159e9       ┆ 1.2005e9       ┆ 1.7159e9       ┆ 0.699632      │\n",
       "│ Middle East  ┆ 5.6077e9       ┆ 9.0366e9       ┆ 5.6077e9       ┆ 9.0366e9       ┆ 0.62056       │\n",
       "└──────────────┴────────────────┴────────────────┴────────────────┴────────────────┴───────────────┘"
      ]
     },
     "execution_count": 110,
     "metadata": {},
     "output_type": "execute_result"
    }
   ],
   "source": [
    "(wb_ratio_5 :=\n",
    " wb\n",
    ".select(cs.string() - cs.contains('Code') | cs.starts_with('199'))\n",
    ".filter(pl.col('Series Name').str.contains(r'^(Urban|Population)'))\n",
    ".unpivot(on = cs.starts_with('199'),\n",
    "         index= cs.string(),\n",
    "         variable_name = \"Year\",\n",
    "         value_name = \"Number of People\"\n",
    "          )\n",
    ".pivot(on = 'Series Name',\n",
    "       index = cs.string() - cs.by_name('Series Name'),\n",
    "       aggregate_function='sum'\n",
    "      )\n",
    ".group_by(\"Region\")\n",
    ".agg([\n",
    "        pl.col(\"Urban population\").sum().alias(\"sum_urban_population\"),\n",
    "        pl.col(\"Population, total\").sum().alias(\"sum_total_population\")\n",
    "     ])\n",
    ".with_columns(\n",
    "        total_sum_urban=pl.reduce(lambda acc, col: acc + col, [pl.col(\"sum_urban_population\")]),\n",
    "        total_sum_total=pl.reduce(lambda acc, col: acc + col, [pl.col(\"sum_total_population\")])\n",
    "    )\n",
    ".with_columns(\n",
    "        overall_ratio=(pl.col(\"total_sum_urban\") / pl.col(\"total_sum_total\"))\n",
    "    )\n",
    "\n",
    ")"
   ]
  }
 ],
 "metadata": {
  "kernelspec": {
   "display_name": "Python 3 (ipykernel)",
   "language": "python",
   "name": "python3"
  },
  "language_info": {
   "codemirror_mode": {
    "name": "ipython",
    "version": 3
   },
   "file_extension": ".py",
   "mimetype": "text/x-python",
   "name": "python",
   "nbconvert_exporter": "python",
   "pygments_lexer": "ipython3",
   "version": "3.12.3"
  }
 },
 "nbformat": 4,
 "nbformat_minor": 5
}
