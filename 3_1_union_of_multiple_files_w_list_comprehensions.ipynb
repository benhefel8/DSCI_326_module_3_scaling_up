{
 "cells": [
  {
   "cell_type": "markdown",
   "metadata": {},
   "source": [
    "# Working with multiple files\n",
    "\n",
    "On occasion, we will need to combine more than 2 files using some combination of `UNION` and `JOIN`.  In this lecture, we will show a clean approach to scaling up these operations up to any number of files.  In the process, we will\n",
    "\n",
    "1. Use `list` comprehensions to process and `UNION` many similar files.\n",
    "2. Use `dict` comprehensions to store and access many tables by name."
   ]
  },
  {
   "cell_type": "code",
   "execution_count": 4,
   "metadata": {},
   "outputs": [],
   "source": [
    "import polars as pl"
   ]
  },
  {
   "cell_type": "markdown",
   "metadata": {},
   "source": [
    "## The Basics of working with many files.\n",
    "\n",
    "* Use `glob.glob` to find all files that match a pattern\n",
    "* Convert all files to `pd.DataFrames`\n",
    "* Store the `df` in a list or dictionary"
   ]
  },
  {
   "cell_type": "markdown",
   "metadata": {},
   "source": [
    "### What the heck is a `glob`\n",
    "\n",
    "`glob.glob`\n",
    "\n",
    "* Takes a path regular expression\n",
    "* Returns a list of files that match the patterm\n",
    "* Relative paths!"
   ]
  },
  {
   "cell_type": "code",
   "execution_count": 125,
   "metadata": {},
   "outputs": [
    {
     "data": {
      "text/plain": [
       "['./data\\\\auto_sales_apr.csv', './data\\\\auto_sales_may.csv']"
      ]
     },
     "execution_count": 125,
     "metadata": {},
     "output_type": "execute_result"
    }
   ],
   "source": [
    "from glob import glob\n",
    "sales_files = glob('./data/auto_sales_*.csv')\n",
    "sales_files"
   ]
  },
  {
   "cell_type": "markdown",
   "metadata": {},
   "source": [
    "### Search tools for `glob`\n",
    "\n",
    "* Use `*` as a wildcard,\n",
    "* Use `?` for optional characters, and\n",
    "* Use `[...]` to define character classes."
   ]
  },
  {
   "cell_type": "markdown",
   "metadata": {},
   "source": [
    "### Using `polars` built-in `glob`\n",
    "\n",
    "* `pl.read_csv( ..., glob=True)` is default,\n",
    "* Will search for all files when given a wildcard/optional/class, and\n",
    "* UNION the resulting tables.\n",
    "\n",
    "**Note.** All information in the file name is lost!"
   ]
  },
  {
   "cell_type": "code",
   "execution_count": 12,
   "metadata": {},
   "outputs": [
    {
     "data": {
      "text/html": [
       "<div><style>\n",
       ".dataframe > thead > tr,\n",
       ".dataframe > tbody > tr {\n",
       "  text-align: right;\n",
       "  white-space: pre-wrap;\n",
       "}\n",
       "</style>\n",
       "<small>shape: (8, 6)</small><table border=\"1\" class=\"dataframe\"><thead><tr><th></th><th>Salesperson</th><th>Compact</th><th>Sedan</th><th>SUV</th><th>Truck</th></tr><tr><td>i64</td><td>str</td><td>i64</td><td>i64</td><td>i64</td><td>i64</td></tr></thead><tbody><tr><td>0</td><td>&quot;Ann&quot;</td><td>22</td><td>18</td><td>15</td><td>12</td></tr><tr><td>1</td><td>&quot;Bob&quot;</td><td>19</td><td>12</td><td>17</td><td>20</td></tr><tr><td>2</td><td>&quot;Yolanda&quot;</td><td>19</td><td>8</td><td>32</td><td>15</td></tr><tr><td>3</td><td>&quot;Xerxes&quot;</td><td>12</td><td>23</td><td>18</td><td>9</td></tr><tr><td>0</td><td>&quot;Ann&quot;</td><td>22</td><td>18</td><td>15</td><td>12</td></tr><tr><td>1</td><td>&quot;Bob&quot;</td><td>20</td><td>14</td><td>6</td><td>24</td></tr><tr><td>2</td><td>&quot;Yolanda&quot;</td><td>19</td><td>10</td><td>28</td><td>17</td></tr><tr><td>3</td><td>&quot;Xerxes&quot;</td><td>11</td><td>27</td><td>17</td><td>9</td></tr></tbody></table></div>"
      ],
      "text/plain": [
       "shape: (8, 6)\n",
       "┌─────┬─────────────┬─────────┬───────┬─────┬───────┐\n",
       "│     ┆ Salesperson ┆ Compact ┆ Sedan ┆ SUV ┆ Truck │\n",
       "│ --- ┆ ---         ┆ ---     ┆ ---   ┆ --- ┆ ---   │\n",
       "│ i64 ┆ str         ┆ i64     ┆ i64   ┆ i64 ┆ i64   │\n",
       "╞═════╪═════════════╪═════════╪═══════╪═════╪═══════╡\n",
       "│ 0   ┆ Ann         ┆ 22      ┆ 18    ┆ 15  ┆ 12    │\n",
       "│ 1   ┆ Bob         ┆ 19      ┆ 12    ┆ 17  ┆ 20    │\n",
       "│ 2   ┆ Yolanda     ┆ 19      ┆ 8     ┆ 32  ┆ 15    │\n",
       "│ 3   ┆ Xerxes      ┆ 12      ┆ 23    ┆ 18  ┆ 9     │\n",
       "│ 0   ┆ Ann         ┆ 22      ┆ 18    ┆ 15  ┆ 12    │\n",
       "│ 1   ┆ Bob         ┆ 20      ┆ 14    ┆ 6   ┆ 24    │\n",
       "│ 2   ┆ Yolanda     ┆ 19      ┆ 10    ┆ 28  ┆ 17    │\n",
       "│ 3   ┆ Xerxes      ┆ 11      ┆ 27    ┆ 17  ┆ 9     │\n",
       "└─────┴─────────────┴─────────┴───────┴─────┴───────┘"
      ]
     },
     "execution_count": 12,
     "metadata": {},
     "output_type": "execute_result"
    }
   ],
   "source": [
    "sales_files = pl.read_csv('./data/auto_sales_*.csv')\n",
    "sales_files"
   ]
  },
  {
   "cell_type": "markdown",
   "metadata": {},
   "source": [
    "#### BEWARE - Files need to be UNIONABLE"
   ]
  },
  {
   "cell_type": "code",
   "execution_count": null,
   "metadata": {},
   "outputs": [],
   "source": [
    "pl.read_csv('./data/baseball/core/*.csv')"
   ]
  },
  {
   "cell_type": "markdown",
   "metadata": {},
   "source": [
    "## Store in `dict` or `list`?\n",
    "\n",
    "* Natural sequence/order? $\\rightarrow$ `list`\n",
    "    *  Example: Lakes data and years are a natural sequence\n",
    "* Easier to refer by name? $\\rightarrow$ `dict`\n",
    "    * Baseball files have no order and easier to refer to by name"
   ]
  },
  {
   "cell_type": "markdown",
   "metadata": {},
   "source": [
    "## Example - Using `glob` to read and UNION the sales data\n",
    "\n",
    "Using `glob` with a `list` to automate reading an combining files "
   ]
  },
  {
   "cell_type": "markdown",
   "metadata": {},
   "source": [
    "#### Step 1 - Get the file names"
   ]
  },
  {
   "cell_type": "code",
   "execution_count": 92,
   "metadata": {},
   "outputs": [
    {
     "data": {
      "text/plain": [
       "['./data\\\\auto_sales_apr.csv', './data\\\\auto_sales_may.csv']"
      ]
     },
     "execution_count": 92,
     "metadata": {},
     "output_type": "execute_result"
    }
   ],
   "source": [
    "from glob import glob\n",
    "sales_files = glob('./data/auto_sales_*.csv')\n",
    "sales_files"
   ]
  },
  {
   "cell_type": "markdown",
   "metadata": {},
   "source": [
    "#### Step 2 - Read the files into a list of data frames"
   ]
  },
  {
   "cell_type": "code",
   "execution_count": 95,
   "metadata": {},
   "outputs": [
    {
     "data": {
      "text/plain": [
       "[shape: (4, 6)\n",
       " ┌─────┬─────────────┬─────────┬───────┬─────┬───────┐\n",
       " │     ┆ Salesperson ┆ Compact ┆ Sedan ┆ SUV ┆ Truck │\n",
       " │ --- ┆ ---         ┆ ---     ┆ ---   ┆ --- ┆ ---   │\n",
       " │ i64 ┆ str         ┆ i64     ┆ i64   ┆ i64 ┆ i64   │\n",
       " ╞═════╪═════════════╪═════════╪═══════╪═════╪═══════╡\n",
       " │ 0   ┆ Ann         ┆ 22      ┆ 18    ┆ 15  ┆ 12    │\n",
       " │ 1   ┆ Bob         ┆ 19      ┆ 12    ┆ 17  ┆ 20    │\n",
       " │ 2   ┆ Yolanda     ┆ 19      ┆ 8     ┆ 32  ┆ 15    │\n",
       " │ 3   ┆ Xerxes      ┆ 12      ┆ 23    ┆ 18  ┆ 9     │\n",
       " └─────┴─────────────┴─────────┴───────┴─────┴───────┘,\n",
       " shape: (4, 6)\n",
       " ┌─────┬─────────────┬─────────┬───────┬─────┬───────┐\n",
       " │     ┆ Salesperson ┆ Compact ┆ Sedan ┆ SUV ┆ Truck │\n",
       " │ --- ┆ ---         ┆ ---     ┆ ---   ┆ --- ┆ ---   │\n",
       " │ i64 ┆ str         ┆ i64     ┆ i64   ┆ i64 ┆ i64   │\n",
       " ╞═════╪═════════════╪═════════╪═══════╪═════╪═══════╡\n",
       " │ 0   ┆ Ann         ┆ 22      ┆ 18    ┆ 15  ┆ 12    │\n",
       " │ 1   ┆ Bob         ┆ 20      ┆ 14    ┆ 6   ┆ 24    │\n",
       " │ 2   ┆ Yolanda     ┆ 19      ┆ 10    ┆ 28  ┆ 17    │\n",
       " │ 3   ┆ Xerxes      ┆ 11      ┆ 27    ┆ 17  ┆ 9     │\n",
       " └─────┴─────────────┴─────────┴───────┴─────┴───────┘]"
      ]
     },
     "execution_count": 95,
     "metadata": {},
     "output_type": "execute_result"
    }
   ],
   "source": [
    "sales_by_month = [pl.read_csv(f) for f in sales_files]\n",
    "sales_by_month"
   ]
  },
  {
   "cell_type": "markdown",
   "metadata": {},
   "source": [
    " #### Inspect each data from with head"
   ]
  },
  {
   "cell_type": "code",
   "execution_count": 98,
   "metadata": {},
   "outputs": [
    {
     "data": {
      "text/plain": [
       "[shape: (2, 6)\n",
       " ┌─────┬─────────────┬─────────┬───────┬─────┬───────┐\n",
       " │     ┆ Salesperson ┆ Compact ┆ Sedan ┆ SUV ┆ Truck │\n",
       " │ --- ┆ ---         ┆ ---     ┆ ---   ┆ --- ┆ ---   │\n",
       " │ i64 ┆ str         ┆ i64     ┆ i64   ┆ i64 ┆ i64   │\n",
       " ╞═════╪═════════════╪═════════╪═══════╪═════╪═══════╡\n",
       " │ 0   ┆ Ann         ┆ 22      ┆ 18    ┆ 15  ┆ 12    │\n",
       " │ 1   ┆ Bob         ┆ 19      ┆ 12    ┆ 17  ┆ 20    │\n",
       " └─────┴─────────────┴─────────┴───────┴─────┴───────┘,\n",
       " shape: (2, 6)\n",
       " ┌─────┬─────────────┬─────────┬───────┬─────┬───────┐\n",
       " │     ┆ Salesperson ┆ Compact ┆ Sedan ┆ SUV ┆ Truck │\n",
       " │ --- ┆ ---         ┆ ---     ┆ ---   ┆ --- ┆ ---   │\n",
       " │ i64 ┆ str         ┆ i64     ┆ i64   ┆ i64 ┆ i64   │\n",
       " ╞═════╪═════════════╪═════════╪═══════╪═════╪═══════╡\n",
       " │ 0   ┆ Ann         ┆ 22      ┆ 18    ┆ 15  ┆ 12    │\n",
       " │ 1   ┆ Bob         ┆ 20      ┆ 14    ┆ 6   ┆ 24    │\n",
       " └─────┴─────────────┴─────────┴───────┴─────┴───────┘]"
      ]
     },
     "execution_count": 98,
     "metadata": {},
     "output_type": "execute_result"
    }
   ],
   "source": [
    "[df.head(2) for df in sales_by_month]"
   ]
  },
  {
   "cell_type": "markdown",
   "metadata": {},
   "source": [
    "#### Inspecting the `shape`s"
   ]
  },
  {
   "cell_type": "code",
   "execution_count": 101,
   "metadata": {},
   "outputs": [
    {
     "data": {
      "text/plain": [
       "[(4, 6), (4, 6)]"
      ]
     },
     "execution_count": 101,
     "metadata": {},
     "output_type": "execute_result"
    }
   ],
   "source": [
    "[df.shape for df in sales_by_month]"
   ]
  },
  {
   "cell_type": "markdown",
   "metadata": {},
   "source": [
    "#### Step 3 - Pull off the month from the file names with a RegEx"
   ]
  },
  {
   "cell_type": "code",
   "execution_count": 143,
   "metadata": {},
   "outputs": [],
   "source": [
    "import re\n",
    "\n",
    "MONTH_RE = re.compile(r'^\\./data/auto_sales_([a-zA-Z_]*)\\.csv$')\n",
    "get_month = lambda p: MONTH_RE.match(p).group(1) if MONTH_RE.match(p) else None"
   ]
  },
  {
   "cell_type": "code",
   "execution_count": 147,
   "metadata": {},
   "outputs": [
    {
     "data": {
      "text/plain": [
       "['./data\\\\auto_sales_apr.csv', './data\\\\auto_sales_may.csv']"
      ]
     },
     "execution_count": 147,
     "metadata": {},
     "output_type": "execute_result"
    }
   ],
   "source": [
    "sales_files = glob.glob('./data/auto_sales_*.csv')\n",
    "sales_files"
   ]
  },
  {
   "cell_type": "code",
   "execution_count": 149,
   "metadata": {},
   "outputs": [
    {
     "data": {
      "text/plain": [
       "[None, None]"
      ]
     },
     "execution_count": 149,
     "metadata": {},
     "output_type": "execute_result"
    }
   ],
   "source": [
    "month_names = [get_month(p) for p in sales_files]\n",
    "month_names"
   ]
  },
  {
   "cell_type": "code",
   "execution_count": 151,
   "metadata": {},
   "outputs": [
    {
     "data": {
      "text/plain": [
       "[shape: (4, 6)\n",
       " ┌─────┬─────────────┬─────────┬───────┬─────┬───────┐\n",
       " │     ┆ Salesperson ┆ Compact ┆ Sedan ┆ SUV ┆ Truck │\n",
       " │ --- ┆ ---         ┆ ---     ┆ ---   ┆ --- ┆ ---   │\n",
       " │ i64 ┆ str         ┆ i64     ┆ i64   ┆ i64 ┆ i64   │\n",
       " ╞═════╪═════════════╪═════════╪═══════╪═════╪═══════╡\n",
       " │ 0   ┆ Ann         ┆ 22      ┆ 18    ┆ 15  ┆ 12    │\n",
       " │ 1   ┆ Bob         ┆ 19      ┆ 12    ┆ 17  ┆ 20    │\n",
       " │ 2   ┆ Yolanda     ┆ 19      ┆ 8     ┆ 32  ┆ 15    │\n",
       " │ 3   ┆ Xerxes      ┆ 12      ┆ 23    ┆ 18  ┆ 9     │\n",
       " └─────┴─────────────┴─────────┴───────┴─────┴───────┘,\n",
       " shape: (4, 6)\n",
       " ┌─────┬─────────────┬─────────┬───────┬─────┬───────┐\n",
       " │     ┆ Salesperson ┆ Compact ┆ Sedan ┆ SUV ┆ Truck │\n",
       " │ --- ┆ ---         ┆ ---     ┆ ---   ┆ --- ┆ ---   │\n",
       " │ i64 ┆ str         ┆ i64     ┆ i64   ┆ i64 ┆ i64   │\n",
       " ╞═════╪═════════════╪═════════╪═══════╪═════╪═══════╡\n",
       " │ 0   ┆ Ann         ┆ 22      ┆ 18    ┆ 15  ┆ 12    │\n",
       " │ 1   ┆ Bob         ┆ 20      ┆ 14    ┆ 6   ┆ 24    │\n",
       " │ 2   ┆ Yolanda     ┆ 19      ┆ 10    ┆ 28  ┆ 17    │\n",
       " │ 3   ┆ Xerxes      ┆ 11      ┆ 27    ┆ 17  ┆ 9     │\n",
       " └─────┴─────────────┴─────────┴───────┴─────┴───────┘]"
      ]
     },
     "execution_count": 151,
     "metadata": {},
     "output_type": "execute_result"
    }
   ],
   "source": [
    "sales_dfs = [pl.read_csv(f) for f in sales_files]\n",
    "\n",
    "sales_dfs"
   ]
  },
  {
   "cell_type": "markdown",
   "metadata": {},
   "source": [
    "#### Combine month and tables in one `list` comprehension\n",
    "\n",
    "Note that we will need the month name later, so we are storing it in a `tuple` with the data frame for now."
   ]
  },
  {
   "cell_type": "code",
   "execution_count": 113,
   "metadata": {},
   "outputs": [
    {
     "data": {
      "text/plain": [
       "[(None,\n",
       "  shape: (4, 6)\n",
       "  ┌─────┬─────────────┬─────────┬───────┬─────┬───────┐\n",
       "  │     ┆ Salesperson ┆ Compact ┆ Sedan ┆ SUV ┆ Truck │\n",
       "  │ --- ┆ ---         ┆ ---     ┆ ---   ┆ --- ┆ ---   │\n",
       "  │ i64 ┆ str         ┆ i64     ┆ i64   ┆ i64 ┆ i64   │\n",
       "  ╞═════╪═════════════╪═════════╪═══════╪═════╪═══════╡\n",
       "  │ 0   ┆ Ann         ┆ 22      ┆ 18    ┆ 15  ┆ 12    │\n",
       "  │ 1   ┆ Bob         ┆ 19      ┆ 12    ┆ 17  ┆ 20    │\n",
       "  │ 2   ┆ Yolanda     ┆ 19      ┆ 8     ┆ 32  ┆ 15    │\n",
       "  │ 3   ┆ Xerxes      ┆ 12      ┆ 23    ┆ 18  ┆ 9     │\n",
       "  └─────┴─────────────┴─────────┴───────┴─────┴───────┘),\n",
       " (None,\n",
       "  shape: (4, 6)\n",
       "  ┌─────┬─────────────┬─────────┬───────┬─────┬───────┐\n",
       "  │     ┆ Salesperson ┆ Compact ┆ Sedan ┆ SUV ┆ Truck │\n",
       "  │ --- ┆ ---         ┆ ---     ┆ ---   ┆ --- ┆ ---   │\n",
       "  │ i64 ┆ str         ┆ i64     ┆ i64   ┆ i64 ┆ i64   │\n",
       "  ╞═════╪═════════════╪═════════╪═══════╪═════╪═══════╡\n",
       "  │ 0   ┆ Ann         ┆ 22      ┆ 18    ┆ 15  ┆ 12    │\n",
       "  │ 1   ┆ Bob         ┆ 20      ┆ 14    ┆ 6   ┆ 24    │\n",
       "  │ 2   ┆ Yolanda     ┆ 19      ┆ 10    ┆ 28  ┆ 17    │\n",
       "  │ 3   ┆ Xerxes      ┆ 11      ┆ 27    ┆ 17  ┆ 9     │\n",
       "  └─────┴─────────────┴─────────┴───────┴─────┴───────┘)]"
      ]
     },
     "execution_count": 113,
     "metadata": {},
     "output_type": "execute_result"
    }
   ],
   "source": [
    "sales_by_month = [(get_month(f), pl.read_csv(f)) for f in sales_files]\n",
    "\n",
    "sales_by_month"
   ]
  },
  {
   "cell_type": "markdown",
   "metadata": {},
   "source": [
    "#### Step 4 - Add a month column to each file\n",
    "\n",
    "Notice that we need to put the `polars` dot-chain *inside* the `list` comprehension to allow access to the names."
   ]
  },
  {
   "cell_type": "code",
   "execution_count": 42,
   "metadata": {},
   "outputs": [],
   "source": [
    "sale_files_with_month = [(df\n",
    "                          .with_columns(month = pl.lit(mon))\n",
    "                         )\n",
    "                         for mon, df in sales_by_month\n",
    "                        ]"
   ]
  },
  {
   "cell_type": "code",
   "execution_count": 44,
   "metadata": {},
   "outputs": [
    {
     "data": {
      "text/plain": [
       "[shape: (2, 7)\n",
       " ┌─────┬─────────────┬─────────┬───────┬─────┬───────┬───────┐\n",
       " │     ┆ Salesperson ┆ Compact ┆ Sedan ┆ SUV ┆ Truck ┆ month │\n",
       " │ --- ┆ ---         ┆ ---     ┆ ---   ┆ --- ┆ ---   ┆ ---   │\n",
       " │ i64 ┆ str         ┆ i64     ┆ i64   ┆ i64 ┆ i64   ┆ null  │\n",
       " ╞═════╪═════════════╪═════════╪═══════╪═════╪═══════╪═══════╡\n",
       " │ 0   ┆ Ann         ┆ 22      ┆ 18    ┆ 15  ┆ 12    ┆ null  │\n",
       " │ 1   ┆ Bob         ┆ 19      ┆ 12    ┆ 17  ┆ 20    ┆ null  │\n",
       " └─────┴─────────────┴─────────┴───────┴─────┴───────┴───────┘,\n",
       " shape: (2, 7)\n",
       " ┌─────┬─────────────┬─────────┬───────┬─────┬───────┬───────┐\n",
       " │     ┆ Salesperson ┆ Compact ┆ Sedan ┆ SUV ┆ Truck ┆ month │\n",
       " │ --- ┆ ---         ┆ ---     ┆ ---   ┆ --- ┆ ---   ┆ ---   │\n",
       " │ i64 ┆ str         ┆ i64     ┆ i64   ┆ i64 ┆ i64   ┆ null  │\n",
       " ╞═════╪═════════════╪═════════╪═══════╪═════╪═══════╪═══════╡\n",
       " │ 0   ┆ Ann         ┆ 22      ┆ 18    ┆ 15  ┆ 12    ┆ null  │\n",
       " │ 1   ┆ Bob         ┆ 20      ┆ 14    ┆ 6   ┆ 24    ┆ null  │\n",
       " └─────┴─────────────┴─────────┴───────┴─────┴───────┴───────┘]"
      ]
     },
     "execution_count": 44,
     "metadata": {},
     "output_type": "execute_result"
    }
   ],
   "source": [
    "[df.head(2) for df in sale_files_with_month]"
   ]
  },
  {
   "cell_type": "markdown",
   "metadata": {},
   "source": [
    "#### Step 5 - Combine the files using `pl.concat`"
   ]
  },
  {
   "cell_type": "code",
   "execution_count": 47,
   "metadata": {},
   "outputs": [
    {
     "data": {
      "text/html": [
       "<div><style>\n",
       ".dataframe > thead > tr,\n",
       ".dataframe > tbody > tr {\n",
       "  text-align: right;\n",
       "  white-space: pre-wrap;\n",
       "}\n",
       "</style>\n",
       "<small>shape: (8, 7)</small><table border=\"1\" class=\"dataframe\"><thead><tr><th></th><th>Salesperson</th><th>Compact</th><th>Sedan</th><th>SUV</th><th>Truck</th><th>month</th></tr><tr><td>i64</td><td>str</td><td>i64</td><td>i64</td><td>i64</td><td>i64</td><td>null</td></tr></thead><tbody><tr><td>0</td><td>&quot;Ann&quot;</td><td>22</td><td>18</td><td>15</td><td>12</td><td>null</td></tr><tr><td>1</td><td>&quot;Bob&quot;</td><td>19</td><td>12</td><td>17</td><td>20</td><td>null</td></tr><tr><td>2</td><td>&quot;Yolanda&quot;</td><td>19</td><td>8</td><td>32</td><td>15</td><td>null</td></tr><tr><td>3</td><td>&quot;Xerxes&quot;</td><td>12</td><td>23</td><td>18</td><td>9</td><td>null</td></tr><tr><td>0</td><td>&quot;Ann&quot;</td><td>22</td><td>18</td><td>15</td><td>12</td><td>null</td></tr><tr><td>1</td><td>&quot;Bob&quot;</td><td>20</td><td>14</td><td>6</td><td>24</td><td>null</td></tr><tr><td>2</td><td>&quot;Yolanda&quot;</td><td>19</td><td>10</td><td>28</td><td>17</td><td>null</td></tr><tr><td>3</td><td>&quot;Xerxes&quot;</td><td>11</td><td>27</td><td>17</td><td>9</td><td>null</td></tr></tbody></table></div>"
      ],
      "text/plain": [
       "shape: (8, 7)\n",
       "┌─────┬─────────────┬─────────┬───────┬─────┬───────┬───────┐\n",
       "│     ┆ Salesperson ┆ Compact ┆ Sedan ┆ SUV ┆ Truck ┆ month │\n",
       "│ --- ┆ ---         ┆ ---     ┆ ---   ┆ --- ┆ ---   ┆ ---   │\n",
       "│ i64 ┆ str         ┆ i64     ┆ i64   ┆ i64 ┆ i64   ┆ null  │\n",
       "╞═════╪═════════════╪═════════╪═══════╪═════╪═══════╪═══════╡\n",
       "│ 0   ┆ Ann         ┆ 22      ┆ 18    ┆ 15  ┆ 12    ┆ null  │\n",
       "│ 1   ┆ Bob         ┆ 19      ┆ 12    ┆ 17  ┆ 20    ┆ null  │\n",
       "│ 2   ┆ Yolanda     ┆ 19      ┆ 8     ┆ 32  ┆ 15    ┆ null  │\n",
       "│ 3   ┆ Xerxes      ┆ 12      ┆ 23    ┆ 18  ┆ 9     ┆ null  │\n",
       "│ 0   ┆ Ann         ┆ 22      ┆ 18    ┆ 15  ┆ 12    ┆ null  │\n",
       "│ 1   ┆ Bob         ┆ 20      ┆ 14    ┆ 6   ┆ 24    ┆ null  │\n",
       "│ 2   ┆ Yolanda     ┆ 19      ┆ 10    ┆ 28  ┆ 17    ┆ null  │\n",
       "│ 3   ┆ Xerxes      ┆ 11      ┆ 27    ┆ 17  ┆ 9     ┆ null  │\n",
       "└─────┴─────────────┴─────────┴───────┴─────┴───────┴───────┘"
      ]
     },
     "execution_count": 47,
     "metadata": {},
     "output_type": "execute_result"
    }
   ],
   "source": [
    "combined_files = pl.concat(sale_files_with_month)\n",
    "combined_files"
   ]
  },
  {
   "cell_type": "markdown",
   "metadata": {},
   "source": [
    "## <font color=\"red\"> Exercise 3.1</font>\n",
    "\n",
    "In the data folder, you will find 6 files that contain a sample 100,000 rows from the uber data for the month apr14-sep14.  Perform the following tasks:\n",
    "\n",
    "1. Use `glob` to get all 6 file paths.\n",
    "2. Use a regular expression to create a `lambda` function that pulls the month from the files.\n",
    "3. Read the 6 data frames into a `list` of `tuples` containing the month name corresponding data frame.\n",
    "4. Add the month column each data frame using a pipe inside of a comprehension.\n",
    "5. Use `pd.concat` to combine these 6 data frames into one combined `df`"
   ]
  },
  {
   "cell_type": "code",
   "execution_count": 161,
   "metadata": {},
   "outputs": [
    {
     "data": {
      "text/html": [
       "<div><style>\n",
       ".dataframe > thead > tr,\n",
       ".dataframe > tbody > tr {\n",
       "  text-align: right;\n",
       "  white-space: pre-wrap;\n",
       "}\n",
       "</style>\n",
       "<small>shape: (600_000, 5)</small><table border=\"1\" class=\"dataframe\"><thead><tr><th>Date/Time</th><th>Lat</th><th>Lon</th><th>Base</th><th>Month</th></tr><tr><td>str</td><td>f64</td><td>f64</td><td>str</td><td>null</td></tr></thead><tbody><tr><td>&quot;4/18/2014 21:38:00&quot;</td><td>40.7359</td><td>-73.9852</td><td>&quot;B02682&quot;</td><td>null</td></tr><tr><td>&quot;4/23/2014 15:19:00&quot;</td><td>40.7642</td><td>-73.9543</td><td>&quot;B02598&quot;</td><td>null</td></tr><tr><td>&quot;4/10/2014 7:15:00&quot;</td><td>40.7138</td><td>-74.0103</td><td>&quot;B02598&quot;</td><td>null</td></tr><tr><td>&quot;4/11/2014 15:23:00&quot;</td><td>40.7847</td><td>-73.9698</td><td>&quot;B02682&quot;</td><td>null</td></tr><tr><td>&quot;4/7/2014 17:26:00&quot;</td><td>40.646</td><td>-73.7767</td><td>&quot;B02598&quot;</td><td>null</td></tr><tr><td>&hellip;</td><td>&hellip;</td><td>&hellip;</td><td>&hellip;</td><td>&hellip;</td></tr><tr><td>&quot;9/13/2014 16:51:00&quot;</td><td>40.7959</td><td>-73.9326</td><td>&quot;B02617&quot;</td><td>null</td></tr><tr><td>&quot;9/22/2014 22:48:00&quot;</td><td>40.7541</td><td>-73.949</td><td>&quot;B02617&quot;</td><td>null</td></tr><tr><td>&quot;9/11/2014 22:38:00&quot;</td><td>40.7292</td><td>-73.999</td><td>&quot;B02512&quot;</td><td>null</td></tr><tr><td>&quot;9/10/2014 10:36:00&quot;</td><td>40.7706</td><td>-73.8671</td><td>&quot;B02598&quot;</td><td>null</td></tr><tr><td>&quot;9/13/2014 11:57:00&quot;</td><td>40.6473</td><td>-73.9797</td><td>&quot;B02598&quot;</td><td>null</td></tr></tbody></table></div>"
      ],
      "text/plain": [
       "shape: (600_000, 5)\n",
       "┌────────────────────┬─────────┬──────────┬────────┬───────┐\n",
       "│ Date/Time          ┆ Lat     ┆ Lon      ┆ Base   ┆ Month │\n",
       "│ ---                ┆ ---     ┆ ---      ┆ ---    ┆ ---   │\n",
       "│ str                ┆ f64     ┆ f64      ┆ str    ┆ null  │\n",
       "╞════════════════════╪═════════╪══════════╪════════╪═══════╡\n",
       "│ 4/18/2014 21:38:00 ┆ 40.7359 ┆ -73.9852 ┆ B02682 ┆ null  │\n",
       "│ 4/23/2014 15:19:00 ┆ 40.7642 ┆ -73.9543 ┆ B02598 ┆ null  │\n",
       "│ 4/10/2014 7:15:00  ┆ 40.7138 ┆ -74.0103 ┆ B02598 ┆ null  │\n",
       "│ 4/11/2014 15:23:00 ┆ 40.7847 ┆ -73.9698 ┆ B02682 ┆ null  │\n",
       "│ 4/7/2014 17:26:00  ┆ 40.646  ┆ -73.7767 ┆ B02598 ┆ null  │\n",
       "│ …                  ┆ …       ┆ …        ┆ …      ┆ …     │\n",
       "│ 9/13/2014 16:51:00 ┆ 40.7959 ┆ -73.9326 ┆ B02617 ┆ null  │\n",
       "│ 9/22/2014 22:48:00 ┆ 40.7541 ┆ -73.949  ┆ B02617 ┆ null  │\n",
       "│ 9/11/2014 22:38:00 ┆ 40.7292 ┆ -73.999  ┆ B02512 ┆ null  │\n",
       "│ 9/10/2014 10:36:00 ┆ 40.7706 ┆ -73.8671 ┆ B02598 ┆ null  │\n",
       "│ 9/13/2014 11:57:00 ┆ 40.6473 ┆ -73.9797 ┆ B02598 ┆ null  │\n",
       "└────────────────────┴─────────┴──────────┴────────┴───────┘"
      ]
     },
     "execution_count": 161,
     "metadata": {},
     "output_type": "execute_result"
    }
   ],
   "source": [
    "file_paths = glob.glob('./data/uber-raw-data-*.csv')  \n",
    "\n",
    "MONTH_RE = re.compile(r'./data/uber-raw-data-([a-z]{3})(\\d{2})\\.csv$')\n",
    "\n",
    "get_month = lambda p: MONTH_RE.match(p).group(1) if MONTH_RE.match(p) else None\n",
    "\n",
    "data_frames = [(get_month(file), pl.read_csv(file)) for file in file_paths]\n",
    "\n",
    "data_frames_with_month = [\n",
    "                            (month, df.with_columns(pl.lit(month).alias(\"Month\"))) \n",
    "                            for month, df in data_frames\n",
    "                         ]\n",
    "\n",
    "combined_df = pl.concat(df for month, df in data_frames_with_month)\n",
    "\n",
    "combined_df"
   ]
  },
  {
   "cell_type": "code",
   "execution_count": null,
   "metadata": {},
   "outputs": [],
   "source": []
  }
 ],
 "metadata": {
  "kernelspec": {
   "display_name": "Python 3 (ipykernel)",
   "language": "python",
   "name": "python3"
  },
  "language_info": {
   "codemirror_mode": {
    "name": "ipython",
    "version": 3
   },
   "file_extension": ".py",
   "mimetype": "text/x-python",
   "name": "python",
   "nbconvert_exporter": "python",
   "pygments_lexer": "ipython3",
   "version": "3.12.5"
  }
 },
 "nbformat": 4,
 "nbformat_minor": 4
}
